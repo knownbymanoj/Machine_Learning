{
  "nbformat": 4,
  "nbformat_minor": 0,
  "metadata": {
    "colab": {
      "provenance": [],
      "collapsed_sections": [],
      "include_colab_link": true
    },
    "kernelspec": {
      "name": "python3",
      "display_name": "Python 3"
    },
    "language_info": {
      "name": "python"
    }
  },
  "cells": [
    {
      "cell_type": "markdown",
      "metadata": {
        "id": "view-in-github",
        "colab_type": "text"
      },
      "source": [
        "<a href=\"https://colab.research.google.com/github/knownbymanoj/Machine_Learning/blob/main/%20Preprocessing%20%26%20Sampling.ipynb\" target=\"_parent\"><img src=\"https://colab.research.google.com/assets/colab-badge.svg\" alt=\"Open In Colab\"/></a>"
      ]
    },
    {
      "cell_type": "markdown",
      "metadata": {
        "id": "JfOTu0aKSw7S"
      },
      "source": [
        "# Theory"
      ]
    },
    {
      "cell_type": "markdown",
      "metadata": {
        "id": "dVCD1K5XS0Hc"
      },
      "source": [
        "### Preprocessing\n",
        "\n",
        "One of the tasks of a data scientist is to guide the training process of  Machine Learning tasks. <br>\n",
        "This operation does require the definition of a training strategy, which might involve some preprocessing operations. <br>\n",
        "Preprocessing operations are meant to ease the training phase of our models, and sometimes they are essentials! <br>\n",
        "In today's exercises, we will see a practical example. <br>\n",
        "\n",
        "Now we show you some Sklearn preprocessing functions <a href = \"https://scikit-learn.org/stable/modules/classes.html#module-sklearn.preprocessing\"> [link] </a>. \n",
        "\n",
        "Usually, scaling operations are performed column-wise, i.e., each column is standadized independently."
      ]
    },
    {
      "cell_type": "code",
      "metadata": {
        "colab": {
          "base_uri": "https://localhost:8080/"
        },
        "id": "r1_mFKGNSzeB",
        "outputId": "5c89c003-c80e-4465-a4cb-87aaadcb6316"
      },
      "source": [
        "import numpy as np\n",
        "\n",
        "#define our array\n",
        "data = np.array([[0, 0], [0, 0], [1, 2], [1, 1]])\n",
        "print(data)"
      ],
      "execution_count": 1,
      "outputs": [
        {
          "output_type": "stream",
          "name": "stdout",
          "text": [
            "[[0 0]\n",
            " [0 0]\n",
            " [1 2]\n",
            " [1 1]]\n"
          ]
        }
      ]
    },
    {
      "cell_type": "markdown",
      "metadata": {
        "id": "pYSfdAKMUeaI"
      },
      "source": [
        "A first example of preprocessing is the MinMaxScaler <a href = https://scikit-learn.org/stable/modules/generated/sklearn.preprocessing.MinMaxScaler.html#sklearn.preprocessing.MinMaxScaler> [link] </a>.\n",
        "\n",
        "The MinMaxScaler transforms the features in a fixed range scale, for example $[0, 1]$ (default) <br>\n",
        "\n",
        "The MinMaxScaler is defined as follows: \n",
        "\n",
        "    min = 0\n",
        "    max = 1\n",
        "    X_std = (X - X.min(axis=0)) / (X.max(axis=0) - X.min(axis=0))\n",
        "    X_scaled = X_std * (max - min) + min"
      ]
    },
    {
      "cell_type": "code",
      "metadata": {
        "colab": {
          "base_uri": "https://localhost:8080/"
        },
        "id": "6_UpQipUVl7W",
        "outputId": "f1c597aa-930d-4059-801a-9f6e2174c9c2"
      },
      "source": [
        "from sklearn.preprocessing import MinMaxScaler\n",
        "\n",
        "#define the scaler\n",
        "scaler1 = MinMaxScaler()\n",
        "\n",
        "#fit the scaler\n",
        "scaler1.fit(data)\n",
        "\n",
        "print(scaler1.transform(data))"
      ],
      "execution_count": 2,
      "outputs": [
        {
          "output_type": "stream",
          "name": "stdout",
          "text": [
            "[[0.  0. ]\n",
            " [0.  0. ]\n",
            " [1.  1. ]\n",
            " [1.  0.5]]\n"
          ]
        }
      ]
    },
    {
      "cell_type": "markdown",
      "metadata": {
        "id": "qBSbOFq7WLdB"
      },
      "source": [
        "Similarly, we can use the the StandardScaler <a href = \"https://scikit-learn.org/stable/modules/generated/sklearn.preprocessing.StandardScaler.html#sklearn.preprocessing.StandardScaler\"> [link] </a>. <br>\n",
        "\n",
        "This scaler standardizes features by removing the mean and scaling to unit variance. For example, given an array $X$, the function outputs the following\n",
        "$X_{std} = \\frac{(X - \\mu)}{\\sigma}$"
      ]
    },
    {
      "cell_type": "code",
      "metadata": {
        "colab": {
          "base_uri": "https://localhost:8080/"
        },
        "id": "BF-l7L0fWKoa",
        "outputId": "06837596-cfa5-4612-fc35-652595b638a9"
      },
      "source": [
        "from sklearn.preprocessing import StandardScaler\n",
        "\n",
        "#define the scaler\n",
        "scaler2 = StandardScaler()\n",
        "\n",
        "#fit the scaler\n",
        "scaler2.fit(data)\n",
        "\n",
        "print(scaler2.transform(data))\n",
        "\n",
        "#we can plot also the mean of each axis\n",
        "print(scaler2.mean_)"
      ],
      "execution_count": 3,
      "outputs": [
        {
          "output_type": "stream",
          "name": "stdout",
          "text": [
            "[[-1.         -0.90453403]\n",
            " [-1.         -0.90453403]\n",
            " [ 1.          1.50755672]\n",
            " [ 1.          0.30151134]]\n",
            "[0.5  0.75]\n"
          ]
        }
      ]
    },
    {
      "cell_type": "markdown",
      "metadata": {
        "id": "YycHdgGuYAHb"
      },
      "source": [
        "If you apply preprocessing techniques, you need to use them on every sets (i.e., training, validation, and testing) consistently. <br>\n",
        "When using preprocessing techniques, you need to apply the *fit* operation to the **training set only**. <br> \n",
        "The validation set can be used to find the best hyperparameter setting of the preprocessing function . <br>\n",
        "The test set, instead, cannot be used for any reason. <br>\n",
        "We can now see a simple example of what might goes wrong if do not respect such a requirement. "
      ]
    },
    {
      "cell_type": "code",
      "metadata": {
        "id": "RQy452ymY4s3"
      },
      "source": [
        "#we first define a training array\n",
        "X_tr = np.array([[0, 1, 2, 3, 4, 5, 6]]).T \n",
        "\n",
        "#the ground truth is defined as a binary classification task, where the sample\n",
        "# is 0 if <=3, 1 otherwise\n",
        "y_tr = np.array([0, 0, 0, 0, 1, 1, 1]) \n",
        "\n",
        "#we define the test set with the same rules\n",
        "X_te = np.array([[0, 0, 3, 20]]).T\n",
        "y_te = np.array([0, 0, 0, 1])"
      ],
      "execution_count": 4,
      "outputs": []
    },
    {
      "cell_type": "code",
      "metadata": {
        "colab": {
          "base_uri": "https://localhost:8080/"
        },
        "id": "KmjcUHPgaUyi",
        "outputId": "39ea602a-1913-46f6-86df-a5f9f54d9633"
      },
      "source": [
        "X_tr.shape"
      ],
      "execution_count": 5,
      "outputs": [
        {
          "output_type": "execute_result",
          "data": {
            "text/plain": [
              "(7, 1)"
            ]
          },
          "metadata": {},
          "execution_count": 5
        }
      ]
    },
    {
      "cell_type": "code",
      "metadata": {
        "colab": {
          "base_uri": "https://localhost:8080/"
        },
        "id": "0nRfOjwnZk4k",
        "outputId": "6edf53b4-4559-4600-dfe7-9464a4135aa0"
      },
      "source": [
        "#we might want to scale all of the training data in the range [0, 1]\n",
        "scaler_tr = MinMaxScaler()\n",
        "scaler_tr.fit(X_tr)\n",
        "X_tr_scaled = scaler_tr.transform(X_tr)\n",
        "print(X_tr_scaled)"
      ],
      "execution_count": 6,
      "outputs": [
        {
          "output_type": "stream",
          "name": "stdout",
          "text": [
            "[[0.        ]\n",
            " [0.16666667]\n",
            " [0.33333333]\n",
            " [0.5       ]\n",
            " [0.66666667]\n",
            " [0.83333333]\n",
            " [1.        ]]\n"
          ]
        }
      ]
    },
    {
      "cell_type": "markdown",
      "metadata": {
        "id": "ltUMs3hHacYk"
      },
      "source": [
        "A classifier might define a rule that, given a scaled point $x_i$, returns 0 if it is lower or equale than 0.5, 1 otherwise.  "
      ]
    },
    {
      "cell_type": "code",
      "metadata": {
        "colab": {
          "base_uri": "https://localhost:8080/"
        },
        "id": "BjveTT-DatWa",
        "outputId": "094af099-6560-4d36-e703-943c97bde37c"
      },
      "source": [
        "#we now wrongly fit a new scaler over the test set. \n",
        "#let's see what happens\n",
        "print(X_te)\n",
        "scaler_te = MinMaxScaler()\n",
        "scaler_te.fit(X_te)\n",
        "X_te_scaled = scaler_te.transform(X_te)\n",
        "print(X_te_scaled)"
      ],
      "execution_count": 7,
      "outputs": [
        {
          "output_type": "stream",
          "name": "stdout",
          "text": [
            "[[ 0]\n",
            " [ 0]\n",
            " [ 3]\n",
            " [20]]\n",
            "[[0.  ]\n",
            " [0.  ]\n",
            " [0.15]\n",
            " [1.  ]]\n"
          ]
        }
      ]
    },
    {
      "cell_type": "markdown",
      "metadata": {
        "id": "_PbcLpyUbDXt"
      },
      "source": [
        "The classifier we previously defined might work well in most cases, but it misclassify $x_i = 3$: now its scaled value is 0.15 and not 0.5. <br>\n",
        "If we use the correct process, i.e., transforming the testing data with the scaler fitted on the training data, the output is correct."
      ]
    },
    {
      "cell_type": "code",
      "metadata": {
        "colab": {
          "base_uri": "https://localhost:8080/"
        },
        "id": "DJqynHDZbztb",
        "outputId": "fe0fbb22-cf8a-46d9-c2bc-9ff92bbea540"
      },
      "source": [
        "#we now wrongly fit a new scaler over the test set. \n",
        "#let's see what happens\n",
        "print(X_te)\n",
        "X_te_scaled = scaler_tr.transform(X_te)\n",
        "print(X_te_scaled)"
      ],
      "execution_count": 8,
      "outputs": [
        {
          "output_type": "stream",
          "name": "stdout",
          "text": [
            "[[ 0]\n",
            " [ 0]\n",
            " [ 3]\n",
            " [20]]\n",
            "[[0.        ]\n",
            " [0.        ]\n",
            " [0.5       ]\n",
            " [3.33333333]]\n"
          ]
        }
      ]
    },
    {
      "cell_type": "markdown",
      "metadata": {
        "id": "UHK-ScxAb7SJ"
      },
      "source": [
        "### Undersampling / Oversampling\n",
        "\n",
        "Sometimes we might face unbalanced datasets. <br>\n",
        "In classification tasks, this means that the number of samples per class are not equal among the classes. <br>\n",
        "These dataset can produce *deceiving* results, and today we are going to experiment with an ad hoc example. <br>\n",
        "\n",
        "Let $X, y$ be a dataset defined over two classes $(c_0, c_1)$. \n",
        "Let $c_0$ be the minority class, and $c_1$ the majority one. <br>\n",
        "We might face different unbalance levels, for example weak unbalance (e.g., $c_0 = 100$ and $c_1 = 110$), or heavily unbalance (e.g., $c_0 = 100$ and $c_1=1000$). <br> \n",
        "In general, when we have unbalanced data, we can apply two mitigation strategies:\n",
        "\n",
        "\n",
        "1.   *Oversampling*: we use a generator $G$ to produce new samples belonging to $c_0$. In this way, we make $c_0$ bigger and closer to $c_1$.\n",
        "2.   *Undersampling*: we use a generator $G$ to select a subset of samples belonging to $c_1$. In this way, we make $c_1$ smaller and closer to $c_0$. \n",
        "\n",
        "One simple way to implement such strategies in sci-kit learn is to use the **class_weight** parameter of many learning algorithms ([Logistic Regression](https://scikit-learn.org/stable/modules/generated/sklearn.linear_model.LogisticRegression.html?highlight=logistic%20regression#sklearn.linear_model.LogisticRegression) and [Perceptron](https://scikit-learn.org/stable/modules/generated/sklearn.linear_model.Perceptron.html?highlight=perceptron#) are among these). **class_weight** multiplies the error, during learning, on every example of that class. We can use that to weight the errors on the minority class such that overall they count as much as the ones on the majority class (see the explanation of the 'balanced' value of the parameter). <br> \n",
        "We now turn our attention to techniques that directly change the data at preprocessing time. \n",
        "We can find several techniques to define $G$. Today we show an example of oversampling and undersampling $G$. Remember: when defining $G$ we can explicitly define the magnitude of the sampling strategy. <br>\n",
        "For example, in the case of oversampling:\n",
        "\n",
        "\n",
        "*   100% balancy: from $c_0 = 100$ and $c_1=1000$ to $c_0 = 1000$ and $c_1=1000$.\n",
        "*   50% balancy: from $c_0 = 100$ and $c_1=1000$ to $c_0 = 500$ and $c_1=1000$.\n",
        "\n",
        "\n",
        "In our exercises we use generators $G$ developed by *imbalance learn* library, a library written on top of *sklearn* <a href = \"https://imbalanced-learn.org/stable/index.html\"> [link] </a>. <br>\n",
        "We are going to use [SMOTE](https://imbalanced-learn.org/stable/references/generated/imblearn.over_sampling.SMOTE.html?highlight=smote#imblearn.over_sampling.SMOTE) (an oversampler), and [RandomUnderSampler](https://imbalanced-learn.org/stable/references/generated/imblearn.under_sampling.RandomUnderSampler.html?highlight=randomundersampler) (an undersampler).\n",
        "\n",
        "\n"
      ]
    },
    {
      "cell_type": "code",
      "metadata": {
        "colab": {
          "base_uri": "https://localhost:8080/"
        },
        "id": "5-QyknDGfJhZ",
        "outputId": "fd385289-0944-4036-84d8-03e231498618"
      },
      "source": [
        "from sklearn.datasets import make_classification\n",
        "from imblearn.under_sampling import RandomUnderSampler\n",
        "from imblearn.over_sampling import SMOTE\n",
        "\n",
        "#we generate a two-classes dataset. 1000 samples. \n",
        "# c0 = 100 samples, c1 = 900 samples\n",
        "X, y = make_classification(n_classes=2, class_sep=2, weights=[0.1, 0.9], n_informative= 1, n_redundant= 0,\n",
        "                           flip_y=0, n_features=1, n_clusters_per_class=1, n_samples=1000, random_state=123)\n",
        "\n",
        "#print the first 10 samples\n",
        "print(X[:10], '\\n' ,y[:10])\n",
        "\n",
        "#we can see the distribution of the two classes\n",
        "print(len(X))\n",
        "print(f\"Class 0:{np.sum(y == 0)}\")\n",
        "print(f\"Class 1:{np.sum(y == 1)}\")"
      ],
      "execution_count": 9,
      "outputs": [
        {
          "output_type": "stream",
          "name": "stdout",
          "text": [
            "[[ 3.30508966]\n",
            " [ 1.7806262 ]\n",
            " [ 2.33866443]\n",
            " [ 1.52007651]\n",
            " [ 2.58837882]\n",
            " [-1.66661221]\n",
            " [ 1.94721384]\n",
            " [ 3.02283045]\n",
            " [ 2.35284844]\n",
            " [ 2.26043847]] \n",
            " [1 1 1 1 1 0 1 1 1 1]\n",
            "1000\n",
            "Class 0:100\n",
            "Class 1:900\n"
          ]
        }
      ]
    },
    {
      "cell_type": "code",
      "metadata": {
        "colab": {
          "base_uri": "https://localhost:8080/"
        },
        "id": "eRnZ20-vgIH5",
        "outputId": "83464fcf-0244-4ad9-debf-080eeedc45ee"
      },
      "source": [
        "#we can try to use the undersampling strategy\n",
        "#by using 0.5 as ratio, we ask the classifier to make the minority class 50% of the size of the majority one\n",
        "#here the minority class size is fixed. We change the majority\n",
        "undersampler = RandomUnderSampler(random_state = 123, sampling_strategy= 0.5)\n",
        "\n",
        "#resample\n",
        "X_under, y_under = undersampler.fit_resample(X, y)\n",
        "\n",
        "#we can see the distribution of the two classes\n",
        "print(len(X_under))\n",
        "print(f\"Class 0:{np.sum(y_under == 0)}\")\n",
        "print(f\"Class 1:{np.sum(y_under == 1)}\")"
      ],
      "execution_count": 10,
      "outputs": [
        {
          "output_type": "stream",
          "name": "stdout",
          "text": [
            "300\n",
            "Class 0:100\n",
            "Class 1:200\n"
          ]
        }
      ]
    },
    {
      "cell_type": "code",
      "metadata": {
        "colab": {
          "base_uri": "https://localhost:8080/"
        },
        "id": "qZuc93tLhLHr",
        "outputId": "cbaaf8c1-7e0e-4ed7-e452-4cf7aa8e3812"
      },
      "source": [
        "#we can try with the oversampling strategy\n",
        "#by using 0.5 as ratio, we ask the classifier to make the minority class 50% of the size of the majority one\n",
        "# here the majority class size is fixed. We vary the minority\n",
        "oversampler = SMOTE(random_state = 123, sampling_strategy= 0.5)\n",
        "\n",
        "#resample\n",
        "X_over, y_over = oversampler.fit_resample(X, y)\n",
        "\n",
        "#we can see the distribution of the two classes\n",
        "print(len(X_over))\n",
        "print(f\"Class 0:{np.sum(y_over == 0)}\")\n",
        "print(f\"Class 1:{np.sum(y_over == 1)}\")"
      ],
      "execution_count": 11,
      "outputs": [
        {
          "output_type": "stream",
          "name": "stdout",
          "text": [
            "1350\n",
            "Class 0:450\n",
            "Class 1:900\n"
          ]
        }
      ]
    },
    {
      "cell_type": "markdown",
      "metadata": {
        "id": "2-AyO22oYvgp"
      },
      "source": [
        "--------------\n",
        "# Exercises\n",
        "\n",
        "### Exercise 1: Underfitting and Overfitting\n",
        "\n",
        "In this exercise, we are going to see different effects of underfitting and overfitting. <br>\n",
        "<br>\n",
        "We can now load the dataset that we use in our exercise. \n"
      ]
    },
    {
      "cell_type": "code",
      "metadata": {
        "id": "tx2CiV8uYyWs"
      },
      "source": [
        "from sklearn.datasets import load_wine #load our target dataset\n",
        "import numpy as np\n",
        "\n",
        "#load the dataset\n",
        "dataset = load_wine()\n",
        "\n",
        "#extract X and y\n",
        "X = dataset.data\n",
        "y = dataset.target"
      ],
      "execution_count": 12,
      "outputs": []
    },
    {
      "cell_type": "markdown",
      "metadata": {
        "id": "AN-AKBVnCOUk"
      },
      "source": [
        "The dataset contains three classes: "
      ]
    },
    {
      "cell_type": "code",
      "metadata": {
        "colab": {
          "base_uri": "https://localhost:8080/"
        },
        "id": "MhBRGTIwCJLT",
        "outputId": "9166df2e-4019-469a-cae2-37bd59c22cf8"
      },
      "source": [
        "print(y)"
      ],
      "execution_count": 13,
      "outputs": [
        {
          "output_type": "stream",
          "name": "stdout",
          "text": [
            "[0 0 0 0 0 0 0 0 0 0 0 0 0 0 0 0 0 0 0 0 0 0 0 0 0 0 0 0 0 0 0 0 0 0 0 0 0\n",
            " 0 0 0 0 0 0 0 0 0 0 0 0 0 0 0 0 0 0 0 0 0 0 1 1 1 1 1 1 1 1 1 1 1 1 1 1 1\n",
            " 1 1 1 1 1 1 1 1 1 1 1 1 1 1 1 1 1 1 1 1 1 1 1 1 1 1 1 1 1 1 1 1 1 1 1 1 1\n",
            " 1 1 1 1 1 1 1 1 1 1 1 1 1 1 1 1 1 1 1 2 2 2 2 2 2 2 2 2 2 2 2 2 2 2 2 2 2\n",
            " 2 2 2 2 2 2 2 2 2 2 2 2 2 2 2 2 2 2 2 2 2 2 2 2 2 2 2 2 2 2]\n"
          ]
        }
      ]
    },
    {
      "cell_type": "markdown",
      "metadata": {
        "id": "23nXacv6ahU9"
      },
      "source": [
        "We now have a look on how the data looks like. <br>\n",
        "Print the X and y shapes. \n"
      ]
    },
    {
      "cell_type": "code",
      "metadata": {
        "colab": {
          "base_uri": "https://localhost:8080/"
        },
        "id": "Q8EsXOlca4CF",
        "outputId": "56614a74-310d-448b-a82e-c5786b068f99"
      },
      "source": [
        "#-----SOLUTION--------------\n",
        "print(X.shape, y.shape)\n"
      ],
      "execution_count": 14,
      "outputs": [
        {
          "output_type": "stream",
          "name": "stdout",
          "text": [
            "(178, 13) (178,)\n"
          ]
        }
      ]
    },
    {
      "cell_type": "markdown",
      "metadata": {
        "id": "KThOCq9fa93A"
      },
      "source": [
        "The dataset contains $178$ samples and $13$ features. <br>\n",
        "The first thing to do, is to create the train, val, and test partitions. <br>\n",
        "\n",
        "To do so, start by defining a split *X_train_val* and *X_test*, with $80\\%$ of the samples in the *X_train_val* set. <br>\n",
        "Then, get *X_train* and *X_val*, where *X_train* contains the $90\\%$ of the samples. <br>\n",
        "\n",
        "Set the *random_state* to 123 in this phase.\n"
      ]
    },
    {
      "cell_type": "code",
      "metadata": {
        "id": "-Q0Nr5GAcm9k"
      },
      "source": [
        "#-----SOLUTION--------------\n",
        "from sklearn.model_selection import train_test_split\n",
        "\n",
        "#split\n",
        "X_train_val, X_test, y_train_val, y_test = train_test_split(X, y, train_size = 0.8, random_state = 123) \n",
        "X_train, X_val, y_train, y_val = train_test_split(X_train_val, y_train_val, train_size = 0.9, random_state = 123) "
      ],
      "execution_count": 15,
      "outputs": []
    },
    {
      "cell_type": "markdown",
      "metadata": {
        "id": "Y75YhHVPdci3"
      },
      "source": [
        "Now define a LogisticRegression with default parameters, fit it on the training data, and evaluate both on the training and validation sets. <br>\n",
        "Use the *accuracy score* as the evaluation metric."
      ]
    },
    {
      "cell_type": "code",
      "metadata": {
        "id": "R6EneDDmfCM2"
      },
      "source": [
        "# expected output: 0.968503937007874 0.8666666666666667\n",
        "#"
      ],
      "execution_count": 16,
      "outputs": []
    },
    {
      "cell_type": "code",
      "metadata": {
        "colab": {
          "base_uri": "https://localhost:8080/"
        },
        "id": "XAbdizlNZWRg",
        "outputId": "9fbe402d-9c7d-488e-daf7-66a2194b0d7e"
      },
      "source": [
        "#-----SOLUTION--------------\n",
        "from sklearn.linear_model import LogisticRegression\n",
        "from sklearn.metrics import accuracy_score\n",
        "\n",
        "#define a logistic regression\n",
        "lr = LogisticRegression()\n",
        "\n",
        "#fit\n",
        "lr.fit(X_train, y_train)\n",
        "\n",
        "#prediction\n",
        "y_train_pred = lr.predict(X_train)\n",
        "y_val_pred = lr.predict(X_val)\n",
        "\n",
        "#accuracy \n",
        "tr_acc = accuracy_score(y_train, y_train_pred)\n",
        "val_acc = accuracy_score(y_val, y_val_pred)\n",
        "\n",
        "print(tr_acc, val_acc)"
      ],
      "execution_count": 17,
      "outputs": [
        {
          "output_type": "stream",
          "name": "stdout",
          "text": [
            "0.968503937007874 0.8666666666666667\n"
          ]
        },
        {
          "output_type": "stream",
          "name": "stderr",
          "text": [
            "/usr/local/lib/python3.7/dist-packages/sklearn/linear_model/_logistic.py:818: ConvergenceWarning: lbfgs failed to converge (status=1):\n",
            "STOP: TOTAL NO. of ITERATIONS REACHED LIMIT.\n",
            "\n",
            "Increase the number of iterations (max_iter) or scale the data as shown in:\n",
            "    https://scikit-learn.org/stable/modules/preprocessing.html\n",
            "Please also refer to the documentation for alternative solver options:\n",
            "    https://scikit-learn.org/stable/modules/linear_model.html#logistic-regression\n",
            "  extra_warning_msg=_LOGISTIC_SOLVER_CONVERGENCE_MSG,\n"
          ]
        }
      ]
    },
    {
      "cell_type": "markdown",
      "metadata": {
        "id": "PID-oueTCs2b"
      },
      "source": [
        "The previous cell returns the following message:\n",
        "\n",
        "    ConvergenceWarning: lbfgs failed to converge (status=1): \n",
        "    STOP: TOTAL NO. of ITERATIONS REACHED LIMIT.\n",
        "\n",
        "    Increase the number of iterations (max_iter) or scale the data as shown in: https://scikit-learn.org/stable/modules/preprocessing.html\n",
        "\n",
        "    Please also refer to the documentation for alternative solver options:\n",
        "    https://scikit-learn.org/stable/modules/linear_model.html#logistic-regression\n",
        "    extra_warning_msg=_LOGISTIC_SOLVER_CONVERGENCE_MSG)\n",
        "    (0.9824561403508771, 0.8666666666666667)\n",
        "\n",
        "Sklearn suggest you to to increase the max number of iterations, or to scale the data. <br>\n",
        "We go for the second way. <br>\n",
        "Using $X_{tr}$, fit a *standard scaler*, and transform $X_{tr}$, $X_{val}$, and $X_{te}$ using the fitted scaler."
      ]
    },
    {
      "cell_type": "code",
      "metadata": {
        "id": "iygiO-IKDr4F"
      },
      "source": [
        "\n",
        "# The new variables are called X_train_scaled, X_val_scaled, and X_test_scaled"
      ],
      "execution_count": null,
      "outputs": []
    },
    {
      "cell_type": "code",
      "metadata": {
        "id": "Ce7uYIFtD8PQ"
      },
      "source": [
        "from sklearn.preprocessing import StandardScaler\n",
        "\n",
        "#define the scaler\n",
        "scaler = StandardScaler()\n",
        "\n",
        "#fit the scaler on the training\n",
        "scaler.fit(X_train)\n",
        "\n",
        "#trasform the input\n",
        "X_train_scaled = scaler.transform(X_train)\n",
        "X_val_scaled = scaler.transform(X_val)\n",
        "X_test_scaled = scaler.transform(X_test)"
      ],
      "execution_count": 18,
      "outputs": []
    },
    {
      "cell_type": "markdown",
      "metadata": {
        "id": "e70FrA5jEnAo"
      },
      "source": [
        "Print $\\mu$ of the scaler. "
      ]
    },
    {
      "cell_type": "code",
      "metadata": {
        "colab": {
          "base_uri": "https://localhost:8080/"
        },
        "id": "ELy2D-uyE18X",
        "outputId": "dbbef4ce-3dbb-47a6-ce89-17604e70b1e9"
      },
      "source": [
        "#--------------SOLUTION--------------\n",
        "print(scaler.mean_)"
      ],
      "execution_count": 19,
      "outputs": [
        {
          "output_type": "stream",
          "name": "stdout",
          "text": [
            "[1.30235433e+01 2.23960630e+00 2.34456693e+00 1.91448819e+01\n",
            " 9.95984252e+01 2.34440945e+00 2.16173228e+00 3.51023622e-01\n",
            " 1.64881890e+00 4.88811023e+00 9.76818898e-01 2.70149606e+00\n",
            " 7.40251969e+02]\n"
          ]
        }
      ]
    },
    {
      "cell_type": "markdown",
      "metadata": {
        "id": "uwDygBbkFGwy"
      },
      "source": [
        "We now check if the preprocessing solved our issue encountered in Ex 2.1.3. <br>\n",
        "Train the logistic regression with default parameters on the scaled data and print the accuracy on the training and validation sets."
      ]
    },
    {
      "cell_type": "code",
      "metadata": {
        "colab": {
          "base_uri": "https://localhost:8080/"
        },
        "id": "at5IxzXKFYFq",
        "outputId": "427d0715-96f6-4760-ca55-6cdf344b1099"
      },
      "source": [
        "#--------------SOLUTION--------------\n",
        "\n",
        "#define a logistic regression\n",
        "lr = LogisticRegression()\n",
        "\n",
        "#fit\n",
        "lr.fit(X_train_scaled, y_train)\n",
        "\n",
        "#prediction\n",
        "y_train_pred = lr.predict(X_train_scaled)\n",
        "y_val_pred = lr.predict(X_val_scaled)\n",
        "\n",
        "#accuracy \n",
        "tr_acc = accuracy_score(y_train, y_train_pred)\n",
        "val_acc = accuracy_score(y_val, y_val_pred)\n",
        "\n",
        "print(tr_acc, val_acc)"
      ],
      "execution_count": 20,
      "outputs": [
        {
          "output_type": "stream",
          "name": "stdout",
          "text": [
            "1.0 1.0\n"
          ]
        }
      ]
    },
    {
      "cell_type": "markdown",
      "metadata": {
        "id": "cf5V5G2OKQ4g"
      },
      "source": [
        "# Exercise 2.2: Dealing with unbalanced data"
      ]
    },
    {
      "cell_type": "markdown",
      "metadata": {
        "id": "2FrRq1PdKhHg"
      },
      "source": [
        "We first define a new ad hoc dataset. "
      ]
    },
    {
      "cell_type": "code",
      "metadata": {
        "id": "cHoPHU5YKl0E"
      },
      "source": [
        "from sklearn import datasets\n",
        "import matplotlib.pyplot as plt \n",
        "\n",
        "X_toy, y_toy = datasets.make_classification(n_samples=10000, n_features=2, n_redundant=0,\n",
        "\tn_clusters_per_class=1, weights=[0.99], flip_y=0, random_state=1)"
      ],
      "execution_count": 21,
      "outputs": []
    },
    {
      "cell_type": "markdown",
      "metadata": {
        "id": "VDjx4Ay3LQQ7"
      },
      "source": [
        "Print the number of samples, and the number of features. <br>\n",
        "\n",
        "Split the data: first create a test set ($20\\%$), and then split the remaining data into training and validation sets ($90\\%$ training size, $10\\%$ validation set size)."
      ]
    },
    {
      "cell_type": "code",
      "metadata": {
        "colab": {
          "base_uri": "https://localhost:8080/"
        },
        "id": "Bwb65NQ9LgTi",
        "outputId": "2bfc2dbe-b05a-4c44-bfb5-dd30a98f91e2"
      },
      "source": [
        "#--------------SOLUTION--------------\n",
        "print(X_toy.shape[0], X_toy.shape[1])\n",
        "#split\n",
        "X_train_val, X_test, y_train_val, y_test = train_test_split(X_toy, y_toy, train_size = 0.8, random_state = 123) \n",
        "X_train, X_val, y_train, y_val = train_test_split(X_train_val, y_train_val, train_size = 0.9, random_state = 123) "
      ],
      "execution_count": 22,
      "outputs": [
        {
          "output_type": "stream",
          "name": "stdout",
          "text": [
            "10000 2\n"
          ]
        }
      ]
    },
    {
      "cell_type": "markdown",
      "metadata": {
        "id": "IJy_dpETMbDq"
      },
      "source": [
        "Train a Logistic Regression with default parameters on the training set, and evaluate it on the validation set. <br>\n",
        "Use the *accuracy score* as evaluation metric.  "
      ]
    },
    {
      "cell_type": "code",
      "metadata": {
        "colab": {
          "base_uri": "https://localhost:8080/"
        },
        "id": "kHM6jOnXMrjY",
        "outputId": "931296aa-2304-4f15-8f0a-1944bf63cda2"
      },
      "source": [
        "#--------------SOLUTION--------------\n",
        "#define the model\n",
        "lr = LogisticRegression()\n",
        "\n",
        "#train\n",
        "lr.fit(X_train, y_train)\n",
        "\n",
        "#evaluate\n",
        "y_val_pred = lr.predict(X_val)\n",
        "print(accuracy_score(y_val, y_val_pred))"
      ],
      "execution_count": 23,
      "outputs": [
        {
          "output_type": "stream",
          "name": "stdout",
          "text": [
            "0.99375\n"
          ]
        }
      ]
    },
    {
      "cell_type": "markdown",
      "metadata": {
        "id": "9KWddVioNK6o"
      },
      "source": [
        "We just obtained a wonderful score! Almost perfect prediction. <br>\n",
        "However, in datascience, we always need to verify our scores. <br>\n",
        "We can start by counting the number of samples of each class contained in the training and validation sets (separately)."
      ]
    },
    {
      "cell_type": "code",
      "metadata": {
        "colab": {
          "base_uri": "https://localhost:8080/"
        },
        "id": "AyLdrzDqNxu_",
        "outputId": "78922f7a-2196-4512-9c55-478ce09bc88a"
      },
      "source": [
        "#--------------SOLUTION--------------\n",
        "print(f\"Class 0: {np.sum(y_train == 0)}\")\n",
        "print(f\"Class 1: {np.sum(y_train == 1)}\")\n",
        "\n",
        "print(f\"Class 0: {np.sum(y_val == 0)}\")\n",
        "print(f\"Class 1: {np.sum(y_val == 1)}\")"
      ],
      "execution_count": null,
      "outputs": [
        {
          "output_type": "stream",
          "name": "stdout",
          "text": [
            "Class 0: 7127\n",
            "Class 1: 73\n",
            "Class 0: 791\n",
            "Class 1: 9\n"
          ]
        }
      ]
    },
    {
      "cell_type": "markdown",
      "metadata": {
        "id": "9_qjWWaKN-82"
      },
      "source": [
        "There is a high unbalance! For example, in the validation we have 791 samples belonging to class 0, and only 9 to class 1! Can this affect our scores? <br>\n",
        "To understand how good is an accuracy of $0.99$, do the following:\n",
        "create an array $y_{dummy} = 0$, where $|y_{dummy}| = |y_{val}|$. <br>\n",
        "$|x|=n$ is the cardinality of x, in this example the vector x has n elements. \n",
        "<br>\n",
        "Once you defined y_{dummy}, compute the validation accuracy between the true validation labels (i.e., $y_{val}$) and y_{dummy}."
      ]
    },
    {
      "cell_type": "code",
      "metadata": {
        "colab": {
          "base_uri": "https://localhost:8080/"
        },
        "id": "c08IKD7MQOYr",
        "outputId": "230921ee-bb90-4cc2-9640-17fb81c5ed26"
      },
      "source": [
        "#--------------SOLUTION--------------\n",
        "y_dummy = np.zeros(len(y_val) ,dtype = int)\n",
        "print(accuracy_score(y_val, y_dummy))"
      ],
      "execution_count": 24,
      "outputs": [
        {
          "output_type": "stream",
          "name": "stdout",
          "text": [
            "0.98875\n"
          ]
        }
      ]
    },
    {
      "cell_type": "markdown",
      "metadata": {
        "id": "GtZEG434Po-2"
      },
      "source": [
        "Ok, that is not pretty amazing. <br>\n",
        "The accuracy score is maybe not the best metric for unbalanced data. <br>\n",
        "Let's use the [$AUC$ score](https://scikit-learn.org/stable/modules/generated/sklearn.metrics.roc_auc_score.html) instead. <br>\n",
        "Print both validation AUC of the $lr$ predictions and the $y_{dummy}$ with respect to the true labels."
      ]
    },
    {
      "cell_type": "code",
      "metadata": {
        "id": "VDzF3YmUQXeh"
      },
      "source": [
        "# Expected output: 0.72 for the logistic regression, and 0.5 for the dummy array."
      ],
      "execution_count": null,
      "outputs": []
    },
    {
      "cell_type": "code",
      "metadata": {
        "colab": {
          "base_uri": "https://localhost:8080/"
        },
        "id": "XJXSx3gyQLGo",
        "outputId": "4e7dab0b-906e-4a74-8a49-a9b2aa6d7a8b"
      },
      "source": [
        "from sklearn.metrics import roc_auc_score\n",
        "\n",
        "print(roc_auc_score(y_val, y_val_pred))\n",
        "print(roc_auc_score(y_val, y_dummy))"
      ],
      "execution_count": 25,
      "outputs": [
        {
          "output_type": "stream",
          "name": "stdout",
          "text": [
            "0.7222222222222222\n",
            "0.5\n"
          ]
        }
      ]
    },
    {
      "cell_type": "markdown",
      "metadata": {
        "id": "BnEVe5cuQ8xs"
      },
      "source": [
        "AUC gives a more useful picture of our classifiers. <br>\n",
        "Now we just need to improve the classification performance. <br>\n",
        "We start by plotting the data. How does training data look like?\n"
      ]
    },
    {
      "cell_type": "code",
      "metadata": {
        "colab": {
          "base_uri": "https://localhost:8080/",
          "height": 265
        },
        "id": "tJPDvERhRJy3",
        "outputId": "f14d87df-77c4-4715-9829-e24ff067d618"
      },
      "source": [
        "# scatter plot of examples by class label\n",
        "from collections import Counter\n",
        "from numpy import where\n",
        "\n",
        "counter = Counter(y_train)\n",
        "\n",
        "for label, _ in counter.items():\n",
        "\trow_ix = where(y_train == label)[0]\n",
        "\tplt.scatter(X_train[row_ix, 0], X_train[row_ix, 1], label=str(label))\n",
        "plt.legend()\n",
        "plt.show()"
      ],
      "execution_count": 26,
      "outputs": [
        {
          "output_type": "display_data",
          "data": {
            "text/plain": [
              "<Figure size 432x288 with 1 Axes>"
            ],
            "image/png": "[encoded data removed]"
          },
          "metadata": {
            "needs_background": "light"
          }
        }
      ]
    },
    {
      "cell_type": "markdown",
      "metadata": {
        "id": "p_80GeGPRtUp"
      },
      "source": [
        "There is a big blue cluster, and a few orange points. <br>\n",
        "Let's use SMOTE to oversample the minority class. <br>\n",
        "Use the SMOTE with default parameters over the training set, and obtain new variables *X_train_over*, *y_train_over*."
      ]
    },
    {
      "cell_type": "code",
      "metadata": {
        "id": "klKvhXMsSCu8"
      },
      "source": [
        "#--------------SOLUTION--------------\n",
        "from imblearn.over_sampling import SMOTE\n",
        "\n",
        "# transform the dataset\n",
        "oversample = SMOTE(random_state= 123)\n",
        "X_train_over, y_train_over = oversample.fit_resample(X_train, y_train)"
      ],
      "execution_count": 27,
      "outputs": []
    },
    {
      "cell_type": "markdown",
      "metadata": {
        "id": "34FAN7m2NuSC"
      },
      "source": [
        "After the oversampling, print the number of samples contained in every class of the training. Is the balancy situation improved compared to the raw training set?"
      ]
    },
    {
      "cell_type": "code",
      "metadata": {
        "colab": {
          "base_uri": "https://localhost:8080/"
        },
        "id": "BakAUsa_Ntd2",
        "outputId": "6615ccc2-3143-4108-8097-b3b5764ad215"
      },
      "source": [
        "#--------------SOLUTION--------------\n",
        "print(f\"Class 0: {np.sum(y_train_over == 0)}\")\n",
        "print(f\"Class 1: {np.sum(y_train_over == 1)}\")"
      ],
      "execution_count": 28,
      "outputs": [
        {
          "output_type": "stream",
          "name": "stdout",
          "text": [
            "Class 0: 7127\n",
            "Class 1: 7127\n"
          ]
        }
      ]
    },
    {
      "cell_type": "markdown",
      "metadata": {
        "id": "o3gmT75STmiM"
      },
      "source": [
        "We can see how the training data changed."
      ]
    },
    {
      "cell_type": "code",
      "metadata": {
        "colab": {
          "base_uri": "https://localhost:8080/",
          "height": 265
        },
        "id": "-oMhZERcTgAZ",
        "outputId": "08043471-ad7b-4bc7-84a7-1cd249046f1a"
      },
      "source": [
        "counter = Counter(y_train_over)\n",
        "\n",
        "for label, _ in counter.items():\n",
        "\trow_ix = where(y_train_over == label)[0]\n",
        "\tplt.scatter(X_train_over[row_ix, 0], X_train_over[row_ix, 1], label=str(label))\n",
        "plt.legend()\n",
        "plt.show()"
      ],
      "execution_count": 29,
      "outputs": [
        {
          "output_type": "display_data",
          "data": {
            "text/plain": [
              "<Figure size 432x288 with 1 Axes>"
            ],
            "image/png": "[encoded data removed]"
          },
          "metadata": {
            "needs_background": "light"
          }
        }
      ]
    },
    {
      "cell_type": "markdown",
      "metadata": {
        "id": "-i752RsgTr2Z"
      },
      "source": [
        "SMOTE creates novel artificial examples. Here is how it works (from the [paper](https://arxiv.org/pdf/1106.1813.pdf) where it was first described) in a nutshell:  \n",
        "```\n",
        "The minority class is over-sampled by taking each minority class sample and introducing synthetic examples along the line segments joining any/all of the k minority class nearest neighbors. \n",
        "Define a new Logistic Regression, train it over the oversampled\n",
        "```\n",
        "\n",
        "Define a new Logistic Regression, train it over the oversampled training data, and calculate the new validation AUC. \n"
      ]
    },
    {
      "cell_type": "code",
      "metadata": {
        "colab": {
          "base_uri": "https://localhost:8080/"
        },
        "id": "dbXqhf7ST_jy",
        "outputId": "43b929b2-a7df-4046-9fb6-5e3aa463dceb"
      },
      "source": [
        "#--------------SOLUTION--------------\n",
        "#define the model\n",
        "lr2 = LogisticRegression()\n",
        "\n",
        "#train\n",
        "lr2.fit(X_train_over, y_train_over)\n",
        "\n",
        "#evaluate\n",
        "y_val_pred = lr2.predict(X_val)\n",
        "print(roc_auc_score(y_val, y_val_pred))"
      ],
      "execution_count": 30,
      "outputs": [
        {
          "output_type": "stream",
          "name": "stdout",
          "text": [
            "0.9620733249051834\n"
          ]
        }
      ]
    },
    {
      "cell_type": "markdown",
      "metadata": {
        "id": "WvuihDKnUKv_"
      },
      "source": [
        "Definitely better! Good job. <br>\n",
        "We can now try another way to solve the unbalance problem: instead of increasing the number of samples belonging to the minority class (i.e., class 0), we reduce the number of sample of the majority one (i.e., class 1). <br>\n",
        "Remember: the fit operations can be done only in the training data. <br>\n",
        "\n",
        "Use the *RandomUnderSampler* with default parameters to undersample the training data. <br>\n",
        "Call the new variables and obtain new variables X_train_under, y_train_under.\n",
        "Print the distribution of the two undersampled classes."
      ]
    },
    {
      "cell_type": "code",
      "metadata": {
        "colab": {
          "base_uri": "https://localhost:8080/"
        },
        "id": "tYTTSZL9OPup",
        "outputId": "e542d12d-f09d-4b16-afdc-7d81dae31d1e"
      },
      "source": [
        "#--------------SOLUTION--------------\n",
        "from imblearn.under_sampling import RandomUnderSampler\n",
        "\n",
        "#define the sampleing strategy\n",
        "undersampler = RandomUnderSampler(random_state = 123)\n",
        "\n",
        "X_train_under, y_train_under = undersampler.fit_resample(X_train, y_train)\n",
        "\n",
        "print(f\"Class 0: {np.sum(y_train_under == 0)}\")\n",
        "print(f\"Class 1: {np.sum(y_train_under == 1)}\")"
      ],
      "execution_count": 31,
      "outputs": [
        {
          "output_type": "stream",
          "name": "stdout",
          "text": [
            "Class 0: 73\n",
            "Class 1: 73\n"
          ]
        }
      ]
    },
    {
      "cell_type": "markdown",
      "metadata": {
        "id": "0iaXq0-eQYuR"
      },
      "source": [
        "Train a LogisticRegression using the undersampled training data, and evaluate with the AUC using the validation set. "
      ]
    },
    {
      "cell_type": "code",
      "metadata": {
        "colab": {
          "base_uri": "https://localhost:8080/"
        },
        "id": "Jp-7dINiQlwR",
        "outputId": "0551e3dd-e701-416e-e70e-fe24d184ca7c"
      },
      "source": [
        "#--------------SOLUTION--------------\n",
        "#define the model\n",
        "lr3 = LogisticRegression()\n",
        "\n",
        "#train\n",
        "lr3.fit(X_train_under, y_train_under)\n",
        "\n",
        "#evaluate\n",
        "y_val_pred = lr3.predict(X_val)\n",
        "print(roc_auc_score(y_val, y_val_pred))"
      ],
      "execution_count": 32,
      "outputs": [
        {
          "output_type": "stream",
          "name": "stdout",
          "text": [
            "0.907149880601208\n"
          ]
        }
      ]
    },
    {
      "cell_type": "markdown",
      "metadata": {
        "id": "ljLnzFYZQ50w"
      },
      "source": [
        "We obtain a good performance as well, with only 73 samples per class. <br>\n",
        "Let's try another sampling variation. <br>\n",
        "In our first sampling solution we add samples to the minority class until the size is the same of the majority one, and in the second case we did the opposite, by reducing the majority class. <br>\n",
        "Sampling solutions allow us to control the amount of *unbalancement* we want. <br>\n",
        "\n",
        "For example, create a new undersampling strategy with *sampling stragy = 0.5*. This ratio indicates that the minority class size will be $1/2$ of the majority class size. <br>\n",
        "Print the distribution of the new training data, then train a new LogisticRgression and evaluate it (with AUC) on the validation data. "
      ]
    },
    {
      "cell_type": "code",
      "metadata": {
        "colab": {
          "base_uri": "https://localhost:8080/"
        },
        "id": "iQpE_fbJSTx4",
        "outputId": "c9192b6e-454c-47d4-ff09-0d582fe93a19"
      },
      "source": [
        "#define the sampleing strategy\n",
        "undersampler = RandomUnderSampler(random_state = 123, sampling_strategy= 0.5)\n",
        "\n",
        "X_train_under, y_train_under = undersampler.fit_resample(X_train, y_train)\n",
        "\n",
        "print(f\"Class 0: {np.sum(y_train_under == 0)}\")\n",
        "print(f\"Class 1: {np.sum(y_train_under == 1)}\")\n",
        "\n",
        "#define the model\n",
        "lr4 = LogisticRegression()\n",
        "\n",
        "#train\n",
        "lr4.fit(X_train_under, y_train_under)\n",
        "\n",
        "#evaluate\n",
        "y_val_pred = lr4.predict(X_val)\n",
        "print(roc_auc_score(y_val, y_val_pred))"
      ],
      "execution_count": 33,
      "outputs": [
        {
          "output_type": "stream",
          "name": "stdout",
          "text": [
            "Class 0: 146\n",
            "Class 1: 73\n",
            "0.9349627756707403\n"
          ]
        }
      ]
    },
    {
      "cell_type": "markdown",
      "metadata": {
        "id": "xOkjF4aZSgcw"
      },
      "source": [
        "We got a strong improvement ($+3$) on the validation set. "
      ]
    }
  ]
}