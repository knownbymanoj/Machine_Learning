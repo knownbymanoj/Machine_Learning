{
  "nbformat": 4,
  "nbformat_minor": 0,
  "metadata": {
    "colab": {
      "provenance": [],
      "collapsed_sections": [],
      "include_colab_link": true
    },
    "kernelspec": {
      "name": "python3",
      "display_name": "Python 3"
    },
    "language_info": {
      "name": "python"
    }
  },
  "cells": [
    {
      "cell_type": "markdown",
      "metadata": {
        "id": "view-in-github",
        "colab_type": "text"
      },
      "source": [
        "<a href=\"https://colab.research.google.com/github/knownbymanoj/Machine_Learning/blob/main/Perceptron.ipynb\" target=\"_parent\"><img src=\"https://colab.research.google.com/assets/colab-badge.svg\" alt=\"Open In Colab\"/></a>"
      ]
    },
    {
      "cell_type": "markdown",
      "metadata": {
        "id": "VSsHtoFWNVs8"
      },
      "source": [
        "# Perceptron\n",
        "\n",
        "In this notebook we ask you to implement a Perceptron using Numpy.\n"
      ]
    },
    {
      "cell_type": "code",
      "metadata": {
        "id": "69KlXIWdNK2j"
      },
      "source": [
        "import numpy as np\n",
        "import matplotlib.pyplot as plt\n",
        "from sklearn import datasets"
      ],
      "execution_count": null,
      "outputs": []
    },
    {
      "cell_type": "markdown",
      "metadata": {
        "id": "pn5YgHnZNwy4"
      },
      "source": [
        "We now generate an ad-hoc dataset for the task using Sklearn"
      ]
    },
    {
      "cell_type": "code",
      "metadata": {
        "colab": {
          "base_uri": "https://localhost:8080/"
        },
        "id": "mPqyUzrLNv-9",
        "outputId": "885a6abe-f487-4070-8f8b-185b24ef5045"
      },
      "source": [
        "X, y = datasets.make_blobs(n_samples=150,n_features=2,\n",
        "                           centers=2,cluster_std=1.05,\n",
        "                           random_state=2)\n",
        "print(y)"
      ],
      "execution_count": null,
      "outputs": [
        {
          "output_type": "stream",
          "name": "stdout",
          "text": [
            "[1 0 1 1 0 0 0 1 1 0 0 0 1 1 1 1 1 0 1 0 0 1 0 1 1 1 1 0 1 0 1 1 1 0 1 0 1\n",
            " 0 1 0 0 0 1 0 1 1 0 0 0 1 0 1 0 0 0 0 0 0 0 0 1 1 1 0 1 0 1 0 1 1 0 1 1 1\n",
            " 1 0 1 0 1 1 1 1 1 1 0 1 1 1 1 0 0 1 1 1 0 0 0 1 1 0 0 0 1 1 0 1 0 0 0 1 0\n",
            " 1 0 0 0 0 0 0 0 1 0 0 0 1 0 0 0 1 1 0 0 1 1 1 0 1 1 1 0 1 0 1 0 0 0 0 1 0\n",
            " 1 1]\n"
          ]
        }
      ]
    },
    {
      "cell_type": "markdown",
      "metadata": {
        "id": "mMpNf4y7NAHp"
      },
      "source": [
        "As you can see, $y$ labels are $0$ or $1$. Let's turn the zeros into $-1$ to get us into the setting we saw in class\n",
        "\n",
        "**EX 1.0** Modify the $y$ vector such that the labels are $\\{-1,  1\\}$ instead of $\\{0, 1\\}$. "
      ]
    },
    {
      "cell_type": "code",
      "metadata": {
        "colab": {
          "base_uri": "https://localhost:8080/"
        },
        "id": "I9DlzFzCOuhc",
        "outputId": "1d377659-eb87-4154-efef-a2fba6177e0a"
      },
      "source": [
        "# -------------SOLUTION--------------------\n",
        "# \n",
        " \n",
        "y[y==0] = -1\n",
        "\n",
        "# expected output of the command\n",
        "print(y)\n",
        "#[ 1 -1  1  1 -1 -1 -1  1  1 -1 -1 -1  1  1  1  1  1 -1  1 -1 -1  1 -1  1\n",
        "#  1  1  1 -1  1 -1  1  1  1 -1  1 -1  1 -1  1 -1 -1 -1  1 -1  1  1 -1 -1\n",
        "# -1  1 -1  1 -1 -1 -1 -1 -1 -1 -1 -1  1  1  1 -1  1 -1  1 -1  1  1 -1  1\n",
        "#  1  1  1 -1  1 -1  1  1  1  1  1  1 -1  1  1  1  1 -1 -1  1  1  1 -1 -1\n",
        "# -1  1  1 -1 -1 -1  1  1 -1  1 -1 -1 -1  1 -1  1 -1 -1 -1 -1 -1 -1 -1  1\n",
        "# -1 -1 -1  1 -1 -1 -1  1  1 -1 -1  1  1  1 -1  1  1  1 -1  1 -1  1 -1 -1\n",
        "# -1 -1  1 -1  1  1]\n"
      ],
      "execution_count": null,
      "outputs": [
        {
          "output_type": "stream",
          "name": "stdout",
          "text": [
            "[ 1 -1  1  1 -1 -1 -1  1  1 -1 -1 -1  1  1  1  1  1 -1  1 -1 -1  1 -1  1\n",
            "  1  1  1 -1  1 -1  1  1  1 -1  1 -1  1 -1  1 -1 -1 -1  1 -1  1  1 -1 -1\n",
            " -1  1 -1  1 -1 -1 -1 -1 -1 -1 -1 -1  1  1  1 -1  1 -1  1 -1  1  1 -1  1\n",
            "  1  1  1 -1  1 -1  1  1  1  1  1  1 -1  1  1  1  1 -1 -1  1  1  1 -1 -1\n",
            " -1  1  1 -1 -1 -1  1  1 -1  1 -1 -1 -1  1 -1  1 -1 -1 -1 -1 -1 -1 -1  1\n",
            " -1 -1 -1  1 -1 -1 -1  1  1 -1 -1  1  1  1 -1  1  1  1 -1  1 -1  1 -1 -1\n",
            " -1 -1  1 -1  1  1]\n"
          ]
        }
      ]
    },
    {
      "cell_type": "markdown",
      "metadata": {
        "id": "MQWBjIImdlVi"
      },
      "source": [
        "We also plot how the data looks like; in particular, we can see two different colours, one per class. "
      ]
    },
    {
      "cell_type": "code",
      "metadata": {
        "colab": {
          "base_uri": "https://localhost:8080/",
          "height": 531
        },
        "id": "iVttKKEXdaGB",
        "outputId": "232534f8-54a2-4aac-95f3-625737126f05"
      },
      "source": [
        "#Plotting\n",
        "fig = plt.figure(figsize=(10,8))\n",
        "plt.plot(X[:, 0][y == -1], X[:, 1][y == -1], 'r^')\n",
        "plt.plot(X[:, 0][y == 1], X[:, 1][y == 1], 'bs')\n",
        "plt.xlabel(\"X1\")\n",
        "plt.ylabel(\"X2\")\n",
        "plt.title('Random Classification Data with 2 classes')"
      ],
      "execution_count": null,
      "outputs": [
        {
          "output_type": "execute_result",
          "data": {
            "text/plain": [
              "Text(0.5, 1.0, 'Random Classification Data with 2 classes')"
            ]
          },
          "metadata": {},
          "execution_count": 12
        },
        {
          "output_type": "display_data",
          "data": {
            "image/png": "[encoded data removed]",
            "text/plain": [
              "<Figure size 720x576 with 1 Axes>"
            ]
          },
          "metadata": {
            "needs_background": "light"
          }
        }
      ]
    },
    {
      "cell_type": "markdown",
      "metadata": {
        "id": "YcBkel_JrRg5"
      },
      "source": [
        "Let's start to solve our exercise. <br>\n",
        "\n",
        "**EX 1.1** create two variables m,n that represent the number of examples and the number of features, respectively. Get those values from X. \n"
      ]
    },
    {
      "cell_type": "code",
      "metadata": {
        "colab": {
          "base_uri": "https://localhost:8080/"
        },
        "id": "sayCZIKTsUeu",
        "outputId": "b71b804c-ef5b-4994-9562-529a8eb0e13a"
      },
      "source": [
        "# -------------SOLUTION--------------------\n",
        "m, n = X.shape\n",
        "print(m, n) "
      ],
      "execution_count": null,
      "outputs": [
        {
          "output_type": "stream",
          "name": "stdout",
          "text": [
            "150 2\n"
          ]
        }
      ]
    },
    {
      "cell_type": "markdown",
      "metadata": {
        "id": "Fou6NjWkso0-"
      },
      "source": [
        "We now create a numpy array $\\theta$ that contains the parameters of our perceptron. <br>\n",
        "\n",
        "**EX 1.2** Create a numpy array *theta* filled with zero values (you should be able to determine the correct size). <br>\n"
      ]
    },
    {
      "cell_type": "code",
      "metadata": {
        "colab": {
          "base_uri": "https://localhost:8080/"
        },
        "id": "tQHzUZcwtOGE",
        "outputId": "8ea97847-e4ea-4f3a-b824-6990eb8b6497"
      },
      "source": [
        "# -------------SOLUTION--------------------\n",
        "theta = np.zeros((n + 1, 1)) #we consider the +1 since we need to insert the bias as well\n",
        "print(theta, theta.shape)"
      ],
      "execution_count": null,
      "outputs": [
        {
          "output_type": "stream",
          "name": "stdout",
          "text": [
            "[[0.]\n",
            " [0.]\n",
            " [0.]] (3, 1)\n"
          ]
        }
      ]
    },
    {
      "cell_type": "markdown",
      "metadata": {
        "id": "H7ru7X6NyEut"
      },
      "source": [
        "Add the *bias* vector to $X$ as well: <br> \n",
        "**EX 1.3** create a new matrix $X_{mat}$ $(m , 3)$, where the first column is set to $1$, the second and third are our $X$. "
      ]
    },
    {
      "cell_type": "code",
      "metadata": {
        "id": "Hs5PHHHLyqWD"
      },
      "source": [
        "# Expected output of the command \n",
        "# print(X_mat[:5, :])\n",
        "# [[  1.          -0.53278301  -1.64847081]\n",
        "# [  1.          -0.55022637 -11.61661524]\n",
        "# [  1.           1.38862276  -1.4358059 ]\n",
        "# [  1.           1.37033956  -0.64022071]\n",
        "# [  1.          -0.88060639  -9.7094674 ]]"
      ],
      "execution_count": null,
      "outputs": []
    },
    {
      "cell_type": "code",
      "metadata": {
        "colab": {
          "base_uri": "https://localhost:8080/"
        },
        "id": "x6LZoVfEytet",
        "outputId": "be146b93-a16d-45c3-f413-766a37366ffa"
      },
      "source": [
        "# -------------SOLUTION--------------------\n",
        "print(X[:5, :])\n",
        "X_mat = np.hstack((np.ones((m, 1)), X))\n",
        "print(X_mat[:5, :])"
      ],
      "execution_count": null,
      "outputs": [
        {
          "output_type": "stream",
          "name": "stdout",
          "text": [
            "[[ -0.53278301  -1.64847081]\n",
            " [ -0.55022637 -11.61661524]\n",
            " [  1.38862276  -1.4358059 ]\n",
            " [  1.37033956  -0.64022071]\n",
            " [ -0.88060639  -9.7094674 ]]\n",
            "[[  1.          -0.53278301  -1.64847081]\n",
            " [  1.          -0.55022637 -11.61661524]\n",
            " [  1.           1.38862276  -1.4358059 ]\n",
            " [  1.           1.37033956  -0.64022071]\n",
            " [  1.          -0.88060639  -9.7094674 ]]\n"
          ]
        }
      ]
    },
    {
      "cell_type": "markdown",
      "metadata": {
        "id": "doWAD0iCv46a"
      },
      "source": [
        "It's time to train! <br>\n",
        "**EX 1.4** Write a function called *perceptron_v1* that, given $X_{mat}$, $y$, $m$, and $\\theta$, updates $\\theta$ using the **perceptron** algorithm we saw in class during one of the previous lectures. <br>\n",
        "The function returns the updated $\\theta$ variable, and $y_{hat}$, a list of predicitons.\n",
        "\n",
        "    #Example of how to return multiple variables\n",
        "    def example(a, b):\n",
        "        c = a + b\n",
        "        d = a * b\n",
        "        e = a / b\n",
        "        f = a - b\n",
        "        return c, d, e, f\n",
        "    \n",
        "    c, d, e, f = example(1, 2)\n"
      ]
    },
    {
      "cell_type": "code",
      "metadata": {
        "id": "o75Snnsfwf9A"
      },
      "source": [
        "\n",
        "# Expected output for the command\n",
        "# print(theta) # to be invoked after executing the perceptron function\n",
        "# [10.          1.4885954   1.69384333]"
      ],
      "execution_count": null,
      "outputs": []
    },
    {
      "cell_type": "code",
      "metadata": {
        "id": "0G84hO_gxGt0",
        "colab": {
          "base_uri": "https://localhost:8080/"
        },
        "outputId": "cc15d57f-9474-4ac8-cd3a-a7020905b044"
      },
      "source": [
        "# -------------SOLUTION--------------------\n",
        "def sign(x):\n",
        "  if x>0:\n",
        "    return 1\n",
        "  else:\n",
        "    return -1\n",
        "\n",
        "def perceptron_v1(X_mat, y, m, theta):\n",
        "    #define an empty list \n",
        "    y_hat = []\n",
        "\n",
        "    #we iterate over the samples\n",
        "    for i in range(m):\n",
        "        #get the current sample\n",
        "        X_i = X_mat[i, :].reshape(1, 3)\n",
        "        y_i = y[i]\n",
        "\n",
        "        #predict the label of the ith-example\n",
        "        pred = sign(X_i.dot(theta))\n",
        "\n",
        "        #add the prediction into our list\n",
        "        y_hat.append(pred) \n",
        "\n",
        "        #if the prediction is wrong, we update the samples\n",
        "        if pred != y_i:\n",
        "            theta += y_i*X_i.T\n",
        "        \n",
        "    return theta, y_hat\n",
        "\n",
        "theta, y_pred = perceptron_v1(X_mat, y, m, theta)\n",
        "\n",
        "print(theta)"
      ],
      "execution_count": null,
      "outputs": [
        {
          "output_type": "stream",
          "name": "stdout",
          "text": [
            "[[10.        ]\n",
            " [ 1.4885954 ]\n",
            " [ 1.69384333]]\n"
          ]
        }
      ]
    },
    {
      "cell_type": "markdown",
      "metadata": {
        "id": "blLCnTr85Nkp"
      },
      "source": [
        "**EX 1.5** Define a function called *accuracy_score* that, given the ground truth and a vector of predictions, it returns the accuracy score. <br>\n",
        "We define the accuracy as the number of correct predictions, divided by the total number of predictions. <br>\n",
        "Calculate the accuracy score among the previous perceptron execution."
      ]
    },
    {
      "cell_type": "code",
      "metadata": {
        "id": "pqGcT-CK5wjY"
      },
      "source": [
        "\n",
        "# Expected output of the command\n",
        "# print(accuracy_score(y, y_pred))\n",
        "# 0.9066\n"
      ],
      "execution_count": null,
      "outputs": []
    },
    {
      "cell_type": "code",
      "metadata": {
        "id": "W2eTRA5xKgGc",
        "colab": {
          "base_uri": "https://localhost:8080/"
        },
        "outputId": "0636a23a-069b-4bda-b601-abda65aedd03"
      },
      "source": [
        "# -------------SOLUTION--------------------\n",
        "#\n",
        "# Ex 1.5: complete the solution here\n",
        "#\n",
        "def accuracy_score(y_true, y_pred):\n",
        "    return np.sum(y_true == y_pred) / len(y_true)\n",
        "\n",
        "print(accuracy_score(y, y_pred))\n"
      ],
      "execution_count": null,
      "outputs": [
        {
          "output_type": "stream",
          "name": "stdout",
          "text": [
            "0.9066666666666666\n"
          ]
        }
      ]
    },
    {
      "cell_type": "markdown",
      "metadata": {
        "id": "4MQUmxxdDKvn"
      },
      "source": [
        "Good job! We can finally plot the decision boundary obtained so far."
      ]
    },
    {
      "cell_type": "code",
      "metadata": {
        "colab": {
          "base_uri": "https://localhost:8080/",
          "height": 531
        },
        "id": "HIIY4DeSDTE7",
        "outputId": "de0553bc-770f-4829-949a-ddee57e20490"
      },
      "source": [
        "#Plotting\n",
        "fig = plt.figure(figsize=(10,8))\n",
        "plt.plot(X[:, 0][y == -1], X[:, 1][y == -1], 'r^')\n",
        "plt.plot(X[:, 0][y == 1], X[:, 1][y == 1], 'bs')\n",
        "plt.xlabel(\"X1\")\n",
        "plt.ylabel(\"X2\")\n",
        "plt.title('Random Classification Data with 2 classes')\n",
        "\n",
        "# ADD THE DECISION BOUNDARY\n",
        "# The Line is y=mx+c\n",
        "x1 = np.array([min(X[:,0]), max(X[:,0])])\n",
        "m = -theta[1]/theta[2]\n",
        "c = -theta[0]/theta[2]\n",
        "x2 = m * x1 + c\n",
        "plt.plot(x1, x2, 'y-')"
      ],
      "execution_count": null,
      "outputs": [
        {
          "output_type": "execute_result",
          "data": {
            "text/plain": [
              "[<matplotlib.lines.Line2D at 0x7fb4d2b4da50>]"
            ]
          },
          "metadata": {},
          "execution_count": 23
        },
        {
          "output_type": "display_data",
          "data": {
            "image/png": "[encoded data removed]",
            "text/plain": [
              "<Figure size 720x576 with 1 Axes>"
            ]
          },
          "metadata": {
            "needs_background": "light"
          }
        }
      ]
    }
  ]
}