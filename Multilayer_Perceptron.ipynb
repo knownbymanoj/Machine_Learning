{
  "nbformat": 4,
  "nbformat_minor": 0,
  "metadata": {
    "colab": {
      "provenance": [],
      "collapsed_sections": [
        "a49wN0fdE19N"
      ],
      "include_colab_link": true
    },
    "kernelspec": {
      "name": "python3",
      "display_name": "Python 3"
    },
    "language_info": {
      "name": "python"
    }
  },
  "cells": [
    {
      "cell_type": "markdown",
      "metadata": {
        "id": "view-in-github",
        "colab_type": "text"
      },
      "source": [
        "<a href=\"https://colab.research.google.com/github/knownbymanoj/Machine_Learning/blob/main/Multilayer_Perceptron.ipynb\" target=\"_parent\"><img src=\"https://colab.research.google.com/assets/colab-badge.svg\" alt=\"Open In Colab\"/></a>"
      ]
    },
    {
      "cell_type": "markdown",
      "metadata": {
        "id": "a49wN0fdE19N"
      },
      "source": [
        "# Theory\n",
        "\n",
        "In this first part, we are going to see some useful techniques that are commonly used when training a Neural Network. \\\n",
        "We start by creating a dataset."
      ]
    },
    {
      "cell_type": "code",
      "metadata": {
        "id": "qZL8Toy9E3yo"
      },
      "source": [
        "from sklearn.datasets import load_wine #load our target dataset\n",
        "from sklearn.model_selection import train_test_split\n",
        "import numpy as np\n",
        "\n",
        "#load the dataset\n",
        "dataset = load_wine()\n",
        "\n",
        "#extract X and y\n",
        "X = dataset.data\n",
        "y = dataset.target\n",
        "\n",
        "#split\n",
        "X_train_val, X_test, y_train_val, y_test = train_test_split(X, y, train_size = 0.8, random_state = 123) \n",
        "X_train, X_val, y_train, y_val = train_test_split(X_train_val, y_train_val, train_size = 0.9, random_state = 123) "
      ],
      "execution_count": 1,
      "outputs": []
    },
    {
      "cell_type": "markdown",
      "metadata": {
        "id": "GexK_nGyFZ9t"
      },
      "source": [
        "We then create a MLP, as we did in the Keras ipynb file."
      ]
    },
    {
      "cell_type": "code",
      "metadata": {
        "id": "Bbf3MdF3FJJJ"
      },
      "source": [
        "import tensorflow #the backend used by Keras (there are different beckend)\n",
        "from tensorflow.keras.models import Sequential #import the type of mdel: sequential (e.g., MLP)\n",
        "from tensorflow.keras.layers import Input, Dense #simple linear layer\n",
        "from tensorflow.keras.utils import to_categorical # transformation for classification labels\n",
        "from keras.utils.vis_utils import plot_model\n",
        "from tensorflow.python.framework.random_seed import set_random_seed\n",
        "import matplotlib.pyplot as plt"
      ],
      "execution_count": 2,
      "outputs": []
    },
    {
      "cell_type": "code",
      "metadata": {
        "colab": {
          "base_uri": "https://localhost:8080/"
        },
        "id": "CjuMCk4RFilL",
        "outputId": "f75fb4ca-5efe-4259-f57f-0d1ec33fcb92"
      },
      "source": [
        "# Configuration options\n",
        "#see the number of labels\n",
        "labels = set(y_train)\n",
        "print(labels, len(labels))\n",
        "\n",
        "# Configuration options\n",
        "feature_vector_length = X.shape[1] #how many features\n",
        "num_classes = len(labels) #how many classes"
      ],
      "execution_count": 3,
      "outputs": [
        {
          "output_type": "stream",
          "name": "stdout",
          "text": [
            "{0, 1, 2} 3\n"
          ]
        }
      ]
    },
    {
      "cell_type": "code",
      "metadata": {
        "id": "Eq5ZvhNnFjpj"
      },
      "source": [
        "#convert to one-hot encoding representation the ground truth\n",
        "y_train_cat = to_categorical(y_train, num_classes)\n",
        "y_test_cat = to_categorical(y_test, num_classes)"
      ],
      "execution_count": 4,
      "outputs": []
    },
    {
      "cell_type": "code",
      "metadata": {
        "colab": {
          "base_uri": "https://localhost:8080/",
          "height": 555
        },
        "id": "5sfHSbA_GYZQ",
        "outputId": "de43a8a1-cbb2-4aa7-b0a5-becba4f6b353"
      },
      "source": [
        "#add these two lines when you define a new model\n",
        "np.random.seed(123)\n",
        "set_random_seed(2)\n",
        "\n",
        "model = Sequential() #we first define how the \"model\" looks like\n",
        "model.add(Dense(input_dim = feature_vector_length, units=feature_vector_length , activation='relu')) #input layer\n",
        "model.add(Dense(num_classes, activation='softmax')) #output layer\n",
        "print(model.summary())\n",
        "plot_model(model, show_shapes= True)"
      ],
      "execution_count": 6,
      "outputs": [
        {
          "output_type": "stream",
          "name": "stdout",
          "text": [
            "Model: \"sequential_1\"\n",
            "_________________________________________________________________\n",
            " Layer (type)                Output Shape              Param #   \n",
            "=================================================================\n",
            " dense_2 (Dense)             (None, 13)                182       \n",
            "                                                                 \n",
            " dense_3 (Dense)             (None, 3)                 42        \n",
            "                                                                 \n",
            "=================================================================\n",
            "Total params: 224\n",
            "Trainable params: 224\n",
            "Non-trainable params: 0\n",
            "_________________________________________________________________\n",
            "None\n"
          ]
        },
        {
          "output_type": "execute_result",
          "data": {
            "image/png": "[encoded data removed]",
            "text/plain": [
              "<IPython.core.display.Image object>"
            ]
          },
          "metadata": {},
          "execution_count": 6
        }
      ]
    },
    {
      "cell_type": "markdown",
      "metadata": {
        "id": "eJjWMWXAGhha"
      },
      "source": [
        "We now train our model. \\\n",
        "During our training, we use several *epochs*, meaning that our model saw more times the same training samples. \n",
        "\n",
        "When using more epochs, it is important to look at the training curve, i.e., we print the loss (or accuracy) of both training and validation at the varying of the epochs. \n",
        "\n",
        "This plot can tell us a lot about the trained model, such as:\n",
        "\n",
        "\n",
        "1.   Is there any underfitting / overfitting problem?\n",
        "2.   How is then training curve shape? \n"
      ]
    },
    {
      "cell_type": "code",
      "metadata": {
        "colab": {
          "base_uri": "https://localhost:8080/"
        },
        "id": "gixakiTZGgsv",
        "outputId": "3aebd212-920e-48da-e3d7-141d379b3b64"
      },
      "source": [
        "# Configure the model and start training\n",
        "model.compile(loss='categorical_crossentropy', #loss metric\n",
        "    optimizer='sgd',  #optimizer\n",
        "    metrics=['accuracy']) #displayed metric\n",
        "\n",
        "\n",
        "#fit\n",
        "history = model.fit(X_train, y_train_cat, epochs=5, batch_size=8, verbose=1, validation_split=0.1)"
      ],
      "execution_count": 7,
      "outputs": [
        {
          "output_type": "stream",
          "name": "stdout",
          "text": [
            "Epoch 1/5\n",
            "15/15 [==============================] - 1s 12ms/step - loss: 6.3676 - accuracy: 0.3596 - val_loss: 1.0926 - val_accuracy: 0.6154\n",
            "Epoch 2/5\n",
            "15/15 [==============================] - 0s 3ms/step - loss: 1.0951 - accuracy: 0.4298 - val_loss: 1.0843 - val_accuracy: 0.6154\n",
            "Epoch 3/5\n",
            "15/15 [==============================] - 0s 2ms/step - loss: 1.0922 - accuracy: 0.4298 - val_loss: 1.0755 - val_accuracy: 0.6154\n",
            "Epoch 4/5\n",
            "15/15 [==============================] - 0s 2ms/step - loss: 1.0891 - accuracy: 0.4298 - val_loss: 1.0703 - val_accuracy: 0.6154\n",
            "Epoch 5/5\n",
            "15/15 [==============================] - 0s 2ms/step - loss: 1.0871 - accuracy: 0.4298 - val_loss: 1.0636 - val_accuracy: 0.6154\n"
          ]
        }
      ]
    },
    {
      "cell_type": "code",
      "metadata": {
        "colab": {
          "base_uri": "https://localhost:8080/",
          "height": 295
        },
        "id": "71S0yvkrHWrn",
        "outputId": "c504a431-dd73-459f-916e-1b5589de2616"
      },
      "source": [
        "# summarize history for accuracy\n",
        "plt.plot(history.history['accuracy'])\n",
        "plt.plot(history.history['val_accuracy'])\n",
        "plt.title('model accuracy')\n",
        "plt.ylabel('accuracy')\n",
        "plt.xlabel('epoch')\n",
        "plt.legend(['train', 'val'], loc='upper left')\n",
        "# plt.ylim(0.8, 1)\n",
        "plt.show()"
      ],
      "execution_count": 8,
      "outputs": [
        {
          "output_type": "display_data",
          "data": {
            "text/plain": [
              "<Figure size 432x288 with 1 Axes>"
            ],
            "image/png": "[encoded data removed]"
          },
          "metadata": {
            "needs_background": "light"
          }
        }
      ]
    },
    {
      "cell_type": "code",
      "metadata": {
        "colab": {
          "base_uri": "https://localhost:8080/",
          "height": 295
        },
        "id": "YUNsLM47IDJz",
        "outputId": "146e0bdc-b2ac-4746-9f89-6076b685058a"
      },
      "source": [
        "# summarize history for loss\n",
        "plt.plot(history.history['loss'])\n",
        "plt.plot(history.history['val_loss'])\n",
        "plt.title('model loss')\n",
        "plt.ylabel('loss')\n",
        "plt.xlabel('epoch')\n",
        "plt.legend(['train', 'val'], loc='upper left')\n",
        "plt.show()"
      ],
      "execution_count": 9,
      "outputs": [
        {
          "output_type": "display_data",
          "data": {
            "text/plain": [
              "<Figure size 432x288 with 1 Axes>"
            ],
            "image/png": "[encoded data removed]"
          },
          "metadata": {
            "needs_background": "light"
          }
        }
      ]
    },
    {
      "cell_type": "markdown",
      "metadata": {
        "id": "9X7cKEFfIIMp"
      },
      "source": [
        "This is kind of a toy-sh dataset. /\n",
        "Here, we see a clear pattern of the loss error: a rapid decreasing after the second epoch, and then the model already reached an equilibrium on its loss, i.e.g., the model does not improve its performance.\n",
        " \n",
        "\n",
        "It is thus important to ask, how many epochs should we use? \n",
        "For example, right now we see that 2 epochs are enough. \n",
        "However, we trained our model for 5 epochs more. \n",
        "In this case, this was not time consuming, since each epoch took ~$1 ms$.\n",
        "This might not be acceptable in more challenging task, where one epoch might least 1h, 1d, or even 1 week. \n",
        "We can save our time by introducing an **early stopping mechanism**. \n",
        "For example, during the training, if the model validation loss does not improve \n",
        "for 3 epochs, we decide to stop. \n",
        "In this way, we can even set the number of epochs to 10000. \n",
        "\n",
        "\n",
        "<a href = \"https://keras.io/api/callbacks/early_stopping/\"> [link] </a>"
      ]
    },
    {
      "cell_type": "code",
      "metadata": {
        "colab": {
          "base_uri": "https://localhost:8080/"
        },
        "id": "-LBo5rRtK51b",
        "outputId": "982e2ee8-fed1-46d6-a5a8-004b7ac251c9"
      },
      "source": [
        "from keras.callbacks import EarlyStopping\n",
        "\n",
        "# simple early stopping\n",
        "es = EarlyStopping(monitor='val_loss', #quantity to be monitored\n",
        "                   mode='min', #we look for decreasing patterns stop \n",
        "                   patience = 3, #number of epochs with no improvement\n",
        "                   verbose=1)\n",
        "\n",
        "np.random.seed(123)\n",
        "set_random_seed(2)\n",
        "\n",
        "model2 = Sequential() #we first define how the \"model\" looks like\n",
        "model2.add(Dense(input_dim = feature_vector_length, units=feature_vector_length , activation='relu')) #input layer\n",
        "model2.add(Dense(num_classes, activation='softmax')) #output layer\n",
        "\n",
        "# Configure the model and start training\n",
        "model2.compile(loss='categorical_crossentropy', #loss metric\n",
        "    optimizer='sgd',  #optimizer\n",
        "    metrics=['accuracy']) #displayed metric\n",
        "\n",
        "\n",
        "history2 = model2.fit(X_train, y_train_cat, epochs=500, batch_size=16, verbose=0, validation_split=0.1, callbacks=[es])"
      ],
      "execution_count": 10,
      "outputs": [
        {
          "output_type": "stream",
          "name": "stdout",
          "text": [
            "Epoch 58: early stopping\n"
          ]
        }
      ]
    },
    {
      "cell_type": "code",
      "metadata": {
        "colab": {
          "base_uri": "https://localhost:8080/",
          "height": 295
        },
        "id": "MNM9PjfsL-8p",
        "outputId": "fe803d42-5906-4ef1-bd2b-82345de4a625"
      },
      "source": [
        "# summarize history for loss\n",
        "plt.plot(history2.history['loss'])\n",
        "plt.plot(history2.history['val_loss'])\n",
        "plt.title('model loss')\n",
        "plt.ylabel('loss')\n",
        "plt.xlabel('epoch')\n",
        "plt.legend(['train', 'val'], loc='upper left')\n",
        "plt.ylim(0, 2)\n",
        "plt.show()"
      ],
      "execution_count": 11,
      "outputs": [
        {
          "output_type": "display_data",
          "data": {
            "text/plain": [
              "<Figure size 432x288 with 1 Axes>"
            ],
            "image/png": "[encoded data removed]"
          },
          "metadata": {
            "needs_background": "light"
          }
        }
      ]
    },
    {
      "cell_type": "markdown",
      "metadata": {
        "id": "NIogo8oU4C0o"
      },
      "source": [
        "# Exercise 1\n",
        "\n",
        "We start by creating a dataset. "
      ]
    },
    {
      "cell_type": "code",
      "metadata": {
        "id": "PxYR7qaB4Xae",
        "colab": {
          "base_uri": "https://localhost:8080/",
          "height": 530
        },
        "outputId": "22fb65ae-4d36-4372-ef1f-a748ec05fdfa"
      },
      "source": [
        "from sklearn import datasets\n",
        "import numpy as np\n",
        "np.random.seed(123)\n",
        "X, y = datasets.make_classification(n_samples=1500, n_features=2, random_state=123, n_redundant= 0, scale=10, shift=10)\n",
        "X[:, 0] = X[:, 0]*0.1\n",
        "X_train, X_test, y_train, y_test = train_test_split(X, y, train_size = 0.8, random_state = 123)\n",
        "\n",
        "\n",
        "#Plotting\n",
        "fig = plt.figure(figsize=(10,8))\n",
        "plt.plot(X[:, 0][y == 0], X[:, 1][y == 0], 'r^')\n",
        "plt.plot(X[:, 0][y == 1], X[:, 1][y == 1], 'bs')\n",
        "plt.xlabel(\"X1\")\n",
        "plt.ylabel(\"X2\")\n",
        "plt.title('Random Classification Data with 2 classes')"
      ],
      "execution_count": 12,
      "outputs": [
        {
          "output_type": "execute_result",
          "data": {
            "text/plain": [
              "Text(0.5, 1.0, 'Random Classification Data with 2 classes')"
            ]
          },
          "metadata": {},
          "execution_count": 12
        },
        {
          "output_type": "display_data",
          "data": {
            "text/plain": [
              "<Figure size 720x576 with 1 Axes>"
            ],
            "image/png": "[encoded data removed]"
          },
          "metadata": {
            "needs_background": "light"
          }
        }
      ]
    },
    {
      "cell_type": "markdown",
      "metadata": {
        "id": "EghVG8Cp5Ftd"
      },
      "source": [
        "## Ex1.1\n",
        "\n",
        "Create a MLP called $model_1$ with two layers:\n",
        "\n",
        "1.   one hidden layer with 5 neurons and relu as activation function. \n",
        "2.   one output layer with softmax activation.\n",
        "\n",
        "Then, train it for 5 epochs, batch size = 16, and a validation set of 25%. \n"
      ]
    },
    {
      "cell_type": "code",
      "metadata": {
        "id": "_q8fPhQgOTjh"
      },
      "source": [
        "## EX1.1 HERE"
      ],
      "execution_count": null,
      "outputs": []
    },
    {
      "cell_type": "code",
      "metadata": {
        "id": "kFd5SExg5OkV",
        "colab": {
          "base_uri": "https://localhost:8080/"
        },
        "outputId": "07eff0e7-38f1-4829-9a53-47effe0fb198"
      },
      "source": [
        "#--------SOLUTIONS\n",
        "\n",
        "# Configuration options\n",
        "feature_vector_length = 2 #how many features\n",
        "num_classes = 2 #how many classes\n",
        "\n",
        "#categorization\n",
        "y_train_cat = to_categorical(y_train, num_classes)\n",
        "y_test_cat = to_categorical(y_test, num_classes)\n",
        "\n",
        "#seed\n",
        "np.random.seed(123)\n",
        "set_random_seed(2)\n",
        "\n",
        "# Create the model\n",
        "model = Sequential() #we first define how the \"model\" looks like\n",
        "model.add(Dense(input_dim = feature_vector_length, units=5 , activation='relu')) #input layer\n",
        "model.add(Dense(units = num_classes, activation='softmax')) #output layer\n",
        "\n",
        "#see how the model looks like\n",
        "print(model.summary())\n",
        "\n",
        "# Configure the model and start training\n",
        "model.compile(loss='categorical_crossentropy', #loss metric\n",
        "              optimizer='sgd',  #optimizer\n",
        "              metrics=['accuracy']) #displayed metric\n",
        "\n",
        "#train our model\n",
        "history = model.fit(X_train, y_train_cat, epochs=5, batch_size=16, verbose=1, validation_split=0.25)"
      ],
      "execution_count": 13,
      "outputs": [
        {
          "output_type": "stream",
          "name": "stdout",
          "text": [
            "Model: \"sequential_3\"\n",
            "_________________________________________________________________\n",
            " Layer (type)                Output Shape              Param #   \n",
            "=================================================================\n",
            " dense_6 (Dense)             (None, 5)                 15        \n",
            "                                                                 \n",
            " dense_7 (Dense)             (None, 2)                 12        \n",
            "                                                                 \n",
            "=================================================================\n",
            "Total params: 27\n",
            "Trainable params: 27\n",
            "Non-trainable params: 0\n",
            "_________________________________________________________________\n",
            "None\n",
            "Epoch 1/5\n",
            "57/57 [==============================] - 0s 3ms/step - loss: 2.5229 - accuracy: 0.6100 - val_loss: 0.5740 - val_accuracy: 0.7200\n",
            "Epoch 2/5\n",
            "57/57 [==============================] - 0s 2ms/step - loss: 0.6152 - accuracy: 0.6567 - val_loss: 1.1303 - val_accuracy: 0.4767\n",
            "Epoch 3/5\n",
            "57/57 [==============================] - 0s 2ms/step - loss: 0.6532 - accuracy: 0.6389 - val_loss: 0.5464 - val_accuracy: 0.7467\n",
            "Epoch 4/5\n",
            "57/57 [==============================] - 0s 2ms/step - loss: 0.6507 - accuracy: 0.6400 - val_loss: 0.5689 - val_accuracy: 0.7400\n",
            "Epoch 5/5\n",
            "57/57 [==============================] - 0s 1ms/step - loss: 0.6210 - accuracy: 0.6500 - val_loss: 0.6122 - val_accuracy: 0.5967\n"
          ]
        }
      ]
    },
    {
      "cell_type": "markdown",
      "metadata": {
        "id": "uNZrrLfeOwL4"
      },
      "source": [
        "# Ex 1.2"
      ]
    },
    {
      "cell_type": "markdown",
      "metadata": {
        "id": "BSiEGPpf506U"
      },
      "source": [
        "Plot both accuracy and loss curves \n",
        "\n",
        "Answer the following:\n",
        "\n",
        "1.   Is there any underfitting / overfitting problem?\n",
        "2.   How is then training curve shape? \n",
        "\n"
      ]
    },
    {
      "cell_type": "code",
      "metadata": {
        "colab": {
          "base_uri": "https://localhost:8080/",
          "height": 295
        },
        "id": "8pumpBzR7eHZ",
        "outputId": "66666c76-7165-4cf6-f6d0-6be375efb42a"
      },
      "source": [
        "#--------SOLUTIONS\n",
        "\n",
        "# summarize history for accuracy\n",
        "plt.plot(history.history['accuracy'])\n",
        "plt.plot(history.history['val_accuracy'])\n",
        "plt.title('model accuracy')\n",
        "plt.ylabel('accuracy')\n",
        "plt.xlabel('epoch')\n",
        "plt.legend(['train', 'val'], loc='upper left')\n",
        "# plt.ylim(0.8, 1)\n",
        "plt.show()"
      ],
      "execution_count": 14,
      "outputs": [
        {
          "output_type": "display_data",
          "data": {
            "text/plain": [
              "<Figure size 432x288 with 1 Axes>"
            ],
            "image/png": "[encoded data removed]"
          },
          "metadata": {
            "needs_background": "light"
          }
        }
      ]
    },
    {
      "cell_type": "code",
      "metadata": {
        "colab": {
          "base_uri": "https://localhost:8080/",
          "height": 295
        },
        "id": "pYlnZT2E7mup",
        "outputId": "24c2b03f-3298-4cce-d0b3-81362b594235"
      },
      "source": [
        "#--------SOLUTIONS\n",
        "\n",
        "# summarize history for loss\n",
        "plt.plot(history.history['loss'])\n",
        "plt.plot(history.history['val_loss'])\n",
        "plt.title('model loss')\n",
        "plt.ylabel('loss')\n",
        "plt.xlabel('epoch')\n",
        "plt.legend(['train', 'val'], loc='upper left')\n",
        "plt.show()"
      ],
      "execution_count": 15,
      "outputs": [
        {
          "output_type": "display_data",
          "data": {
            "text/plain": [
              "<Figure size 432x288 with 1 Axes>"
            ],
            "image/png": "[encoded data removed]"
          },
          "metadata": {
            "needs_background": "light"
          }
        }
      ]
    },
    {
      "cell_type": "markdown",
      "metadata": {
        "id": "u8sy6gaQ8b4h"
      },
      "source": [
        "The loss curve tells us that the training improves only up to two epochs, but the validation accuracy, and to less extent the validation loss, is unstable. \n",
        "\n",
        "Let's see if we can improve the model in the next exercise. "
      ]
    },
    {
      "cell_type": "markdown",
      "metadata": {
        "id": "aoF-TBRaQh5Y"
      },
      "source": [
        "### Ex1.3"
      ]
    },
    {
      "cell_type": "markdown",
      "metadata": {
        "id": "PDsR2r-A-EIM"
      },
      "source": [
        "We move temporarily into an important aspect: *knowing our data*.\n",
        "As we introduced in our last lesson, the goal of a good data scientist is not only to provide a good training model, but he / she needs to learn the data we are experimenting with. </br>\n",
        "When working with a dataset, try to answer to the following:\n",
        "\n",
        "\n",
        "1.   Is the ground truth balanced among the classes? In case of an unbalanced dataset, we need to be more careful on how we compute the performance. \n",
        "2.   What are the properties of the input features? For each feature, you can understand the following: i) is it defined in the discrete or continuous domain? if defined in the continous domain, How is it distributed? For example, print the minimum and maximum values for each feature.\n",
        "\n",
        "Based on the answers, we can \"improve\" our training strategy. \n",
        "\n",
        "\n"
      ]
    },
    {
      "cell_type": "code",
      "metadata": {
        "colab": {
          "base_uri": "https://localhost:8080/"
        },
        "id": "kfVFAKTY-DVu",
        "outputId": "cb14a4f0-9443-417f-cbd8-2ed1b865e3b5"
      },
      "source": [
        "#----------SOLUTION\n",
        "#balance / unbalance\n",
        "from collections import Counter\n",
        "\n",
        "Counter(y)\n"
      ],
      "execution_count": 16,
      "outputs": [
        {
          "output_type": "execute_result",
          "data": {
            "text/plain": [
              "Counter({0: 749, 1: 751})"
            ]
          },
          "metadata": {},
          "execution_count": 16
        }
      ]
    },
    {
      "cell_type": "markdown",
      "metadata": {
        "id": "BkQMGqDW_q-p"
      },
      "source": [
        "The ground truth is completely balanced. Let's see how the features looks like. "
      ]
    },
    {
      "cell_type": "code",
      "metadata": {
        "colab": {
          "base_uri": "https://localhost:8080/"
        },
        "id": "3BgpRij4_qcT",
        "outputId": "ee6f7ce4-fbc7-4793-a6c9-1e776444e1d5"
      },
      "source": [
        "#----------SOLUTION\n",
        "#we can first get the min / max of each feature\n",
        "print(X.min(axis = 0))\n",
        "print(X.max(axis = 0))\n",
        "print(X.mean(axis = 0 ))"
      ],
      "execution_count": null,
      "outputs": [
        {
          "output_type": "stream",
          "name": "stdout",
          "text": [
            "[ 6.04904277 57.90438737]\n",
            "[ 14.78715639 128.88776401]\n",
            "[10.02516962 99.74419228]\n"
          ]
        }
      ]
    },
    {
      "cell_type": "markdown",
      "metadata": {
        "id": "Q3PEThT-APqx"
      },
      "source": [
        "Ok, the two features are defined on different ranges. This might be an issue since we are using a gradient-descent-based algorithm to train our model. \n",
        "Therefore the optimization might not be efficient when the features are not defined in the same range, since the we are using one learning rate to control the updates along features on different ranges.  \n",
        "\n",
        "\n",
        "### Ex 1.4\n",
        "\n",
        "We can try to now improve our model by scaling the features. Use a standard scaler to scale $X_{train}$ and $X_{test}$, create a new MLP $model_2$ and train it with the same configurations (architecture, training strategy) as done  for $model_1$. \n",
        "\n",
        "Then we'll do some plots to check the accuracy and loss of the latest model and finally compare it with the previous one (see below for details)\n"
      ]
    },
    {
      "cell_type": "code",
      "metadata": {
        "id": "xyvd2pbNAxuQ",
        "colab": {
          "base_uri": "https://localhost:8080/"
        },
        "outputId": "119197bf-7858-468b-fb61-1e02bbbab0b1"
      },
      "source": [
        "#----------SOLUTION\n",
        "from sklearn.preprocessing import StandardScaler \n",
        "\n",
        "#define a scaler\n",
        "scaler = StandardScaler()\n",
        "scaler.fit(X_train) #remember, always training! \n",
        "X_train_scl = scaler.transform(X_train)\n",
        "X_test_scl = scaler.transform(X_test)\n",
        "\n",
        "\n",
        "\n",
        "#seed\n",
        "np.random.seed(123)\n",
        "set_random_seed(2)\n",
        "\n",
        "# Create the model\n",
        "model2 = Sequential() #we first define how the \"model\" looks like\n",
        "model2.add(Dense(input_dim = feature_vector_length, units=5 , activation='relu')) #input layer\n",
        "model2.add(Dense(num_classes, activation='softmax')) #output layer\n",
        "\n",
        "# Configure the model and start training\n",
        "model2.compile(loss='categorical_crossentropy', #loss metric\n",
        "              optimizer='sgd',  #optimizer\n",
        "              metrics=['accuracy']) #displayed metric\n",
        "\n",
        "#train our model\n",
        "history2 = model2.fit(X_train_scl, y_train_cat, epochs=5, batch_size=16, verbose=1, validation_split=0.25)"
      ],
      "execution_count": 17,
      "outputs": [
        {
          "output_type": "stream",
          "name": "stdout",
          "text": [
            "Epoch 1/5\n",
            "57/57 [==============================] - 0s 3ms/step - loss: 0.4578 - accuracy: 0.8422 - val_loss: 0.4406 - val_accuracy: 0.9000\n",
            "Epoch 2/5\n",
            "57/57 [==============================] - 0s 2ms/step - loss: 0.4071 - accuracy: 0.9400 - val_loss: 0.3930 - val_accuracy: 0.9400\n",
            "Epoch 3/5\n",
            "57/57 [==============================] - 0s 1ms/step - loss: 0.3627 - accuracy: 0.9411 - val_loss: 0.3527 - val_accuracy: 0.9400\n",
            "Epoch 4/5\n",
            "57/57 [==============================] - 0s 2ms/step - loss: 0.3253 - accuracy: 0.9367 - val_loss: 0.3197 - val_accuracy: 0.9367\n",
            "Epoch 5/5\n",
            "57/57 [==============================] - 0s 2ms/step - loss: 0.2945 - accuracy: 0.9367 - val_loss: 0.2936 - val_accuracy: 0.9367\n"
          ]
        }
      ]
    },
    {
      "cell_type": "markdown",
      "metadata": {
        "id": "tZU2nux1B__s"
      },
      "source": [
        "Our second model gained a large improvement in the validation accuracy, which is not bad at all given that we just did a simple preprocessing. \\\n",
        "But let us plot the accuracy on train and validation of our latest model with respect to the number of epochs. "
      ]
    },
    {
      "cell_type": "code",
      "metadata": {
        "colab": {
          "base_uri": "https://localhost:8080/",
          "height": 295
        },
        "id": "7fxhthBIB-51",
        "outputId": "c71d1894-7209-4807-df12-680c7a6575da"
      },
      "source": [
        "#----------SOLUTION\n",
        "# summarize history for accuracy\n",
        "plt.plot(history2.history['accuracy'])\n",
        "plt.plot(history2.history['val_accuracy'])\n",
        "plt.title('model accuracy')\n",
        "plt.ylabel('accuracy')\n",
        "plt.xlabel('epoch')\n",
        "plt.legend(['train', 'val'], loc='upper left')\n",
        "# plt.ylim(0.8, 1)\n",
        "plt.show()"
      ],
      "execution_count": 18,
      "outputs": [
        {
          "output_type": "display_data",
          "data": {
            "text/plain": [
              "<Figure size 432x288 with 1 Axes>"
            ],
            "image/png": "[encoded data removed]"
          },
          "metadata": {
            "needs_background": "light"
          }
        }
      ]
    },
    {
      "cell_type": "markdown",
      "metadata": {
        "id": "Akcf3cf6xnMC"
      },
      "source": [
        "Let's now plot the loss of our latest model on the train and validation sets. "
      ]
    },
    {
      "cell_type": "code",
      "metadata": {
        "colab": {
          "base_uri": "https://localhost:8080/",
          "height": 295
        },
        "id": "ewRuk71mLzhC",
        "outputId": "9d5daf43-0ece-4d85-959b-f1006a67e2d0"
      },
      "source": [
        "#----------SOLUTION\n",
        "# summarize history for accuracy\n",
        "plt.plot(history2.history['loss'])\n",
        "plt.plot(history2.history['val_loss'])\n",
        "plt.title('model loss')\n",
        "plt.ylabel('loss')\n",
        "plt.xlabel('epoch')\n",
        "plt.legend(['train', 'val'], loc='upper left')\n",
        "# plt.ylim(0.8, 1)\n",
        "plt.show()"
      ],
      "execution_count": 19,
      "outputs": [
        {
          "output_type": "display_data",
          "data": {
            "text/plain": [
              "<Figure size 432x288 with 1 Axes>"
            ],
            "image/png": "[encoded data removed]"
          },
          "metadata": {
            "needs_background": "light"
          }
        }
      ]
    },
    {
      "cell_type": "markdown",
      "metadata": {
        "id": "3DMgxBGIPwfh"
      },
      "source": [
        "Let's now compare the performance of the two models on the validation set. "
      ]
    },
    {
      "cell_type": "code",
      "metadata": {
        "colab": {
          "base_uri": "https://localhost:8080/",
          "height": 295
        },
        "id": "Un5L2N1xP6vo",
        "outputId": "8c4b338c-62fe-44d8-bfe7-54af94110199"
      },
      "source": [
        "#----------SOLUTION\n",
        "# summarize history for accuracy\n",
        "plt.plot(history.history['val_loss'])\n",
        "plt.plot(history2.history['val_loss'])\n",
        "plt.title('val loss')\n",
        "plt.ylabel('loss')\n",
        "plt.xlabel('epoch')\n",
        "plt.legend(['no scaling', 'scaling'], loc='upper left')\n",
        "# plt.ylim(0.8, 1)\n",
        "plt.show()"
      ],
      "execution_count": 20,
      "outputs": [
        {
          "output_type": "display_data",
          "data": {
            "text/plain": [
              "<Figure size 432x288 with 1 Axes>"
            ],
            "image/png": "[encoded data removed]"
          },
          "metadata": {
            "needs_background": "light"
          }
        }
      ]
    },
    {
      "cell_type": "markdown",
      "metadata": {
        "id": "WMet2H6SQUn3"
      },
      "source": [
        "The accuracy scores improve \"regularly\" using the scaled dataset. \\\n",
        "As we noticed in the original training, the model can still learn by increasing the number of epochs. \\\n",
        "\n",
        "# Ex1.5\n",
        "\n",
        "Let's do it. \\\n",
        "For example, we can train a new MLP $model_3$ for 50 epochs. \n",
        "Print loss and accuracy curves, and then visually analyze them. \\\n",
        "Again, use the same configuration as $model_1$.\n"
      ]
    },
    {
      "cell_type": "code",
      "metadata": {
        "colab": {
          "base_uri": "https://localhost:8080/"
        },
        "id": "cXRQ8s37Q03e",
        "outputId": "e5e2ba18-c70b-4b0b-9a4c-42f9472841cf"
      },
      "source": [
        "#----------SOLUTION\n",
        "\n",
        "#seed\n",
        "np.random.seed(123)\n",
        "set_random_seed(2)\n",
        "\n",
        "# Create the model\n",
        "model3 = Sequential() #we first define how the \"model\" looks like\n",
        "model3.add(Dense(input_dim = feature_vector_length, units=5 , activation='relu')) #input layer\n",
        "model3.add(Dense(num_classes, activation='softmax')) #output layer\n",
        "\n",
        "#see how the model looks like\n",
        "print(model3.summary())\n",
        "\n",
        "# Configure the model and start training\n",
        "model3.compile(loss='categorical_crossentropy', #loss metric\n",
        "              optimizer='sgd',  #optimizer\n",
        "              metrics=['accuracy']) #displayed metric\n",
        "\n",
        "#train our model\n",
        "history3 = model3.fit(X_train_scl, y_train_cat, epochs=50, batch_size=16, verbose=1, validation_split=0.25)"
      ],
      "execution_count": 21,
      "outputs": [
        {
          "output_type": "stream",
          "name": "stdout",
          "text": [
            "Model: \"sequential_5\"\n",
            "_________________________________________________________________\n",
            " Layer (type)                Output Shape              Param #   \n",
            "=================================================================\n",
            " dense_10 (Dense)            (None, 5)                 15        \n",
            "                                                                 \n",
            " dense_11 (Dense)            (None, 2)                 12        \n",
            "                                                                 \n",
            "=================================================================\n",
            "Total params: 27\n",
            "Trainable params: 27\n",
            "Non-trainable params: 0\n",
            "_________________________________________________________________\n",
            "None\n",
            "Epoch 1/50\n",
            "57/57 [==============================] - 0s 3ms/step - loss: 0.4578 - accuracy: 0.8422 - val_loss: 0.4406 - val_accuracy: 0.9000\n",
            "Epoch 2/50\n",
            "57/57 [==============================] - 0s 1ms/step - loss: 0.4071 - accuracy: 0.9400 - val_loss: 0.3930 - val_accuracy: 0.9400\n",
            "Epoch 3/50\n",
            "57/57 [==============================] - 0s 1ms/step - loss: 0.3627 - accuracy: 0.9411 - val_loss: 0.3527 - val_accuracy: 0.9400\n",
            "Epoch 4/50\n",
            "57/57 [==============================] - 0s 2ms/step - loss: 0.3253 - accuracy: 0.9367 - val_loss: 0.3197 - val_accuracy: 0.9367\n",
            "Epoch 5/50\n",
            "57/57 [==============================] - 0s 2ms/step - loss: 0.2945 - accuracy: 0.9367 - val_loss: 0.2936 - val_accuracy: 0.9367\n",
            "Epoch 6/50\n",
            "57/57 [==============================] - 0s 1ms/step - loss: 0.2699 - accuracy: 0.9356 - val_loss: 0.2731 - val_accuracy: 0.9333\n",
            "Epoch 7/50\n",
            "57/57 [==============================] - 0s 1ms/step - loss: 0.2502 - accuracy: 0.9333 - val_loss: 0.2574 - val_accuracy: 0.9333\n",
            "Epoch 8/50\n",
            "57/57 [==============================] - 0s 2ms/step - loss: 0.2345 - accuracy: 0.9333 - val_loss: 0.2451 - val_accuracy: 0.9333\n",
            "Epoch 9/50\n",
            "57/57 [==============================] - 0s 1ms/step - loss: 0.2219 - accuracy: 0.9322 - val_loss: 0.2354 - val_accuracy: 0.9333\n",
            "Epoch 10/50\n",
            "57/57 [==============================] - 0s 1ms/step - loss: 0.2116 - accuracy: 0.9322 - val_loss: 0.2276 - val_accuracy: 0.9333\n",
            "Epoch 11/50\n",
            "57/57 [==============================] - 0s 2ms/step - loss: 0.2028 - accuracy: 0.9322 - val_loss: 0.2213 - val_accuracy: 0.9367\n",
            "Epoch 12/50\n",
            "57/57 [==============================] - 0s 2ms/step - loss: 0.1954 - accuracy: 0.9333 - val_loss: 0.2159 - val_accuracy: 0.9367\n",
            "Epoch 13/50\n",
            "57/57 [==============================] - 0s 1ms/step - loss: 0.1892 - accuracy: 0.9344 - val_loss: 0.2116 - val_accuracy: 0.9367\n",
            "Epoch 14/50\n",
            "57/57 [==============================] - 0s 2ms/step - loss: 0.1838 - accuracy: 0.9367 - val_loss: 0.2079 - val_accuracy: 0.9367\n",
            "Epoch 15/50\n",
            "57/57 [==============================] - 0s 1ms/step - loss: 0.1792 - accuracy: 0.9378 - val_loss: 0.2048 - val_accuracy: 0.9367\n",
            "Epoch 16/50\n",
            "57/57 [==============================] - 0s 2ms/step - loss: 0.1752 - accuracy: 0.9389 - val_loss: 0.2019 - val_accuracy: 0.9400\n",
            "Epoch 17/50\n",
            "57/57 [==============================] - 0s 2ms/step - loss: 0.1716 - accuracy: 0.9378 - val_loss: 0.1996 - val_accuracy: 0.9400\n",
            "Epoch 18/50\n",
            "57/57 [==============================] - 0s 2ms/step - loss: 0.1685 - accuracy: 0.9400 - val_loss: 0.1976 - val_accuracy: 0.9400\n",
            "Epoch 19/50\n",
            "57/57 [==============================] - 0s 1ms/step - loss: 0.1657 - accuracy: 0.9400 - val_loss: 0.1959 - val_accuracy: 0.9400\n",
            "Epoch 20/50\n",
            "57/57 [==============================] - 0s 2ms/step - loss: 0.1631 - accuracy: 0.9411 - val_loss: 0.1945 - val_accuracy: 0.9400\n",
            "Epoch 21/50\n",
            "57/57 [==============================] - 0s 2ms/step - loss: 0.1610 - accuracy: 0.9433 - val_loss: 0.1930 - val_accuracy: 0.9400\n",
            "Epoch 22/50\n",
            "57/57 [==============================] - 0s 1ms/step - loss: 0.1589 - accuracy: 0.9400 - val_loss: 0.1918 - val_accuracy: 0.9367\n",
            "Epoch 23/50\n",
            "57/57 [==============================] - 0s 1ms/step - loss: 0.1570 - accuracy: 0.9433 - val_loss: 0.1905 - val_accuracy: 0.9367\n",
            "Epoch 24/50\n",
            "57/57 [==============================] - 0s 2ms/step - loss: 0.1554 - accuracy: 0.9444 - val_loss: 0.1895 - val_accuracy: 0.9367\n",
            "Epoch 25/50\n",
            "57/57 [==============================] - 0s 1ms/step - loss: 0.1538 - accuracy: 0.9433 - val_loss: 0.1890 - val_accuracy: 0.9400\n",
            "Epoch 26/50\n",
            "57/57 [==============================] - 0s 2ms/step - loss: 0.1525 - accuracy: 0.9456 - val_loss: 0.1882 - val_accuracy: 0.9400\n",
            "Epoch 27/50\n",
            "57/57 [==============================] - 0s 2ms/step - loss: 0.1512 - accuracy: 0.9467 - val_loss: 0.1874 - val_accuracy: 0.9400\n",
            "Epoch 28/50\n",
            "57/57 [==============================] - 0s 2ms/step - loss: 0.1501 - accuracy: 0.9456 - val_loss: 0.1867 - val_accuracy: 0.9400\n",
            "Epoch 29/50\n",
            "57/57 [==============================] - 0s 2ms/step - loss: 0.1490 - accuracy: 0.9456 - val_loss: 0.1857 - val_accuracy: 0.9367\n",
            "Epoch 30/50\n",
            "57/57 [==============================] - 0s 2ms/step - loss: 0.1481 - accuracy: 0.9456 - val_loss: 0.1854 - val_accuracy: 0.9367\n",
            "Epoch 31/50\n",
            "57/57 [==============================] - 0s 2ms/step - loss: 0.1472 - accuracy: 0.9456 - val_loss: 0.1852 - val_accuracy: 0.9367\n",
            "Epoch 32/50\n",
            "57/57 [==============================] - 0s 2ms/step - loss: 0.1464 - accuracy: 0.9456 - val_loss: 0.1848 - val_accuracy: 0.9367\n",
            "Epoch 33/50\n",
            "57/57 [==============================] - 0s 1ms/step - loss: 0.1455 - accuracy: 0.9456 - val_loss: 0.1846 - val_accuracy: 0.9367\n",
            "Epoch 34/50\n",
            "57/57 [==============================] - 0s 2ms/step - loss: 0.1448 - accuracy: 0.9456 - val_loss: 0.1848 - val_accuracy: 0.9367\n",
            "Epoch 35/50\n",
            "57/57 [==============================] - 0s 1ms/step - loss: 0.1442 - accuracy: 0.9478 - val_loss: 0.1844 - val_accuracy: 0.9367\n",
            "Epoch 36/50\n",
            "57/57 [==============================] - 0s 1ms/step - loss: 0.1436 - accuracy: 0.9478 - val_loss: 0.1844 - val_accuracy: 0.9367\n",
            "Epoch 37/50\n",
            "57/57 [==============================] - 0s 2ms/step - loss: 0.1431 - accuracy: 0.9500 - val_loss: 0.1839 - val_accuracy: 0.9367\n",
            "Epoch 38/50\n",
            "57/57 [==============================] - 0s 2ms/step - loss: 0.1426 - accuracy: 0.9489 - val_loss: 0.1837 - val_accuracy: 0.9367\n",
            "Epoch 39/50\n",
            "57/57 [==============================] - 0s 2ms/step - loss: 0.1419 - accuracy: 0.9500 - val_loss: 0.1836 - val_accuracy: 0.9367\n",
            "Epoch 40/50\n",
            "57/57 [==============================] - 0s 2ms/step - loss: 0.1415 - accuracy: 0.9500 - val_loss: 0.1834 - val_accuracy: 0.9367\n",
            "Epoch 41/50\n",
            "57/57 [==============================] - 0s 2ms/step - loss: 0.1410 - accuracy: 0.9489 - val_loss: 0.1833 - val_accuracy: 0.9367\n",
            "Epoch 42/50\n",
            "57/57 [==============================] - 0s 1ms/step - loss: 0.1406 - accuracy: 0.9500 - val_loss: 0.1835 - val_accuracy: 0.9367\n",
            "Epoch 43/50\n",
            "57/57 [==============================] - 0s 2ms/step - loss: 0.1403 - accuracy: 0.9500 - val_loss: 0.1832 - val_accuracy: 0.9367\n",
            "Epoch 44/50\n",
            "57/57 [==============================] - 0s 2ms/step - loss: 0.1398 - accuracy: 0.9500 - val_loss: 0.1832 - val_accuracy: 0.9367\n",
            "Epoch 45/50\n",
            "57/57 [==============================] - 0s 2ms/step - loss: 0.1395 - accuracy: 0.9500 - val_loss: 0.1829 - val_accuracy: 0.9367\n",
            "Epoch 46/50\n",
            "57/57 [==============================] - 0s 2ms/step - loss: 0.1392 - accuracy: 0.9511 - val_loss: 0.1828 - val_accuracy: 0.9367\n",
            "Epoch 47/50\n",
            "57/57 [==============================] - 0s 2ms/step - loss: 0.1388 - accuracy: 0.9500 - val_loss: 0.1828 - val_accuracy: 0.9367\n",
            "Epoch 48/50\n",
            "57/57 [==============================] - 0s 2ms/step - loss: 0.1385 - accuracy: 0.9500 - val_loss: 0.1827 - val_accuracy: 0.9367\n",
            "Epoch 49/50\n",
            "57/57 [==============================] - 0s 2ms/step - loss: 0.1383 - accuracy: 0.9500 - val_loss: 0.1825 - val_accuracy: 0.9400\n",
            "Epoch 50/50\n",
            "57/57 [==============================] - 0s 1ms/step - loss: 0.1379 - accuracy: 0.9500 - val_loss: 0.1825 - val_accuracy: 0.9400\n"
          ]
        }
      ]
    },
    {
      "cell_type": "code",
      "metadata": {
        "colab": {
          "base_uri": "https://localhost:8080/",
          "height": 295
        },
        "id": "3ZzzRGBbRNb3",
        "outputId": "c166d279-77bd-41fb-c1ef-34137db4785c"
      },
      "source": [
        "# summarize history for accuracy\n",
        "plt.plot(history3.history['accuracy'])\n",
        "plt.plot(history3.history['val_accuracy'])\n",
        "plt.title('model accuracy')\n",
        "plt.ylabel('accuracy')\n",
        "plt.xlabel('epoch')\n",
        "plt.legend(['train', 'val'], loc='upper left')\n",
        "# plt.ylim(0.8, 1)\n",
        "plt.show()"
      ],
      "execution_count": 22,
      "outputs": [
        {
          "output_type": "display_data",
          "data": {
            "text/plain": [
              "<Figure size 432x288 with 1 Axes>"
            ],
            "image/png": "[encoded data removed]"
          },
          "metadata": {
            "needs_background": "light"
          }
        }
      ]
    },
    {
      "cell_type": "code",
      "metadata": {
        "colab": {
          "base_uri": "https://localhost:8080/",
          "height": 295
        },
        "id": "g3klp2lRRXDl",
        "outputId": "ce37cb5c-e61b-44a4-9b16-356a49cab0cb"
      },
      "source": [
        "# summarize history for accuracy\n",
        "plt.plot(history3.history['loss'])\n",
        "plt.plot(history3.history['val_loss'])\n",
        "plt.title('model loss')\n",
        "plt.ylabel('loss')\n",
        "plt.xlabel('epoch')\n",
        "plt.legend(['train', 'val'], loc='upper left')\n",
        "# plt.ylim(0.8, 1)\n",
        "plt.show()"
      ],
      "execution_count": 23,
      "outputs": [
        {
          "output_type": "display_data",
          "data": {
            "text/plain": [
              "<Figure size 432x288 with 1 Axes>"
            ],
            "image/png": "[encoded data removed]"
          },
          "metadata": {
            "needs_background": "light"
          }
        }
      ]
    },
    {
      "cell_type": "markdown",
      "metadata": {
        "id": "-_tGPuFWReDl"
      },
      "source": [
        "The charts show some common training trends. For example, let's consider the loss:\n",
        "\n",
        "\n",
        "1.   In the early stages (epoch 1 - 20), there is a phase where the model performance improve quickly. \n",
        "3.   After epoch 20, the loss does not improve much, and the loss decreases very slowly.\n",
        "\n",
        "### Ex1.6\n",
        "\n",
        "Define a fourth MLP $model_4$ with the early stopping mechanism with patience = 3. Use the same configuration of $model_1$.\n",
        "Train the model for 500 epochs, and then plot the accuracy and loss curves.\n",
        "\n"
      ]
    },
    {
      "cell_type": "code",
      "metadata": {
        "colab": {
          "base_uri": "https://localhost:8080/"
        },
        "id": "zlhtDWw0VQpo",
        "outputId": "e71d63df-e8c0-4826-b366-1e05ff9efa0c"
      },
      "source": [
        "from keras.callbacks import EarlyStopping\n",
        "\n",
        "# simple early stopping\n",
        "es = EarlyStopping(monitor='val_loss', #quantity to be monitored\n",
        "                   mode='min', #we look for decreasing patterns stop \n",
        "                   patience = 3, #number of epochs with no improvement\n",
        "                   verbose=1)\n",
        "\n",
        "#seed\n",
        "np.random.seed(123)\n",
        "set_random_seed(2)\n",
        "\n",
        "# Create the model\n",
        "model4 = Sequential() #we first define how the \"model\" looks like\n",
        "model4.add(Dense(input_dim = feature_vector_length, units=5 , activation='relu')) #input layer\n",
        "model4.add(Dense(num_classes, activation='softmax')) #output layer\n",
        "\n",
        "#see how the model looks like\n",
        "print(model4.summary())\n",
        "\n",
        "# Configure the model and start training\n",
        "model4.compile(loss='categorical_crossentropy', #loss metric\n",
        "              optimizer='sgd',  #optimizer\n",
        "              metrics=['accuracy']) #displayed metric\n",
        "\n",
        "#train our model\n",
        "history4 = model4.fit(X_train_scl, y_train_cat, epochs=500, batch_size=16, verbose=0, validation_split=0.25, callbacks=[es])"
      ],
      "execution_count": 24,
      "outputs": [
        {
          "output_type": "stream",
          "name": "stdout",
          "text": [
            "Model: \"sequential_6\"\n",
            "_________________________________________________________________\n",
            " Layer (type)                Output Shape              Param #   \n",
            "=================================================================\n",
            " dense_12 (Dense)            (None, 5)                 15        \n",
            "                                                                 \n",
            " dense_13 (Dense)            (None, 2)                 12        \n",
            "                                                                 \n",
            "=================================================================\n",
            "Total params: 27\n",
            "Trainable params: 27\n",
            "Non-trainable params: 0\n",
            "_________________________________________________________________\n",
            "None\n",
            "Epoch 54: early stopping\n"
          ]
        }
      ]
    },
    {
      "cell_type": "code",
      "metadata": {
        "colab": {
          "base_uri": "https://localhost:8080/",
          "height": 295
        },
        "id": "hW_F3wffWUGE",
        "outputId": "d247fd3f-b36f-463e-f8f0-c7722dfa7cfc"
      },
      "source": [
        "# summarize history for accuracy\n",
        "plt.plot(history4.history['accuracy'])\n",
        "plt.plot(history4.history['val_accuracy'])\n",
        "plt.title('model accuracy')\n",
        "plt.ylabel('accuracy')\n",
        "plt.xlabel('epoch')\n",
        "plt.legend(['train', 'val'], loc='upper left')\n",
        "# plt.ylim(0.8, 1)\n",
        "plt.show()"
      ],
      "execution_count": 25,
      "outputs": [
        {
          "output_type": "display_data",
          "data": {
            "text/plain": [
              "<Figure size 432x288 with 1 Axes>"
            ],
            "image/png": "[encoded data removed]"
          },
          "metadata": {
            "needs_background": "light"
          }
        }
      ]
    },
    {
      "cell_type": "code",
      "metadata": {
        "colab": {
          "base_uri": "https://localhost:8080/",
          "height": 295
        },
        "id": "Fyn20hD3Wday",
        "outputId": "94a52598-bfdc-40f1-bda4-1fa82efcabf5"
      },
      "source": [
        "# summarize history for accuracy\n",
        "plt.plot(history4.history['loss'])\n",
        "plt.plot(history4.history['val_loss'])\n",
        "plt.title('model accuracy')\n",
        "plt.ylabel('loss')\n",
        "plt.xlabel('epoch')\n",
        "plt.legend(['train', 'val'], loc='upper left')\n",
        "# plt.ylim(0.8, 1)\n",
        "plt.show()"
      ],
      "execution_count": 26,
      "outputs": [
        {
          "output_type": "display_data",
          "data": {
            "text/plain": [
              "<Figure size 432x288 with 1 Axes>"
            ],
            "image/png": "[encoded data removed]"
          },
          "metadata": {
            "needs_background": "light"
          }
        }
      ]
    },
    {
      "cell_type": "markdown",
      "metadata": {
        "id": "dOj4-MQfWlBa"
      },
      "source": [
        "We see that the model stopped at epoch 54. </br>\n",
        "\n",
        "### Ex 1.6 \n",
        "\n",
        "We created so far $4$ models, with four different training strategy, but the same MLP structure. \\\n",
        "\n",
        "We can now see what it would happen on the \"real\" life, i.e., if the fourth model is actually the best on the testing set as well. \n",
        "Remember: the fourth seems the best based on the validation accuracy and loss."
      ]
    },
    {
      "cell_type": "code",
      "metadata": {
        "colab": {
          "base_uri": "https://localhost:8080/"
        },
        "id": "VqEysxrzWhGa",
        "outputId": "0f344f90-2b46-41f3-fcc9-945a9b598732"
      },
      "source": [
        "#see the testing performance of \n",
        "test_results = model.evaluate(X_test, y_test_cat, verbose=1)\n",
        "print(f'Test results - Loss: {test_results[0]} - Accuracy: {test_results[1]}%')\n",
        "\n",
        "#see the testing performance\n",
        "test_results = model2.evaluate(X_test_scl, y_test_cat, verbose=1)\n",
        "print(f'Test results - Loss: {test_results[0]} - Accuracy: {test_results[1]}%')\n",
        "\n",
        "#see the testing performance\n",
        "test_results = model3.evaluate(X_test_scl, y_test_cat, verbose=1)\n",
        "print(f'Test results - Loss: {test_results[0]} - Accuracy: {test_results[1]}%')\n",
        "\n",
        "#see the testing performance\n",
        "test_results = model4.evaluate(X_test_scl, y_test_cat, verbose=1)\n",
        "print(f'Test results - Loss: {test_results[0]} - Accuracy: {test_results[1]}%')"
      ],
      "execution_count": 27,
      "outputs": [
        {
          "output_type": "stream",
          "name": "stdout",
          "text": [
            "10/10 [==============================] - 0s 1ms/step - loss: 0.6544 - accuracy: 0.5400\n",
            "Test results - Loss: 0.6544205546379089 - Accuracy: 0.5400000214576721%\n",
            "10/10 [==============================] - 0s 1ms/step - loss: 0.2954 - accuracy: 0.9100\n",
            "Test results - Loss: 0.29541707038879395 - Accuracy: 0.9100000262260437%\n",
            "10/10 [==============================] - 0s 1ms/step - loss: 0.1576 - accuracy: 0.9433\n",
            "Test results - Loss: 0.15758024156093597 - Accuracy: 0.9433333277702332%\n",
            "10/10 [==============================] - 0s 1ms/step - loss: 0.1565 - accuracy: 0.9433\n",
            "Test results - Loss: 0.1564946472644806 - Accuracy: 0.9433333277702332%\n"
          ]
        }
      ]
    },
    {
      "cell_type": "markdown",
      "metadata": {
        "id": "YqfM0IP2kcko"
      },
      "source": [
        "### Ex1.7 \n",
        "\n",
        "So far, when we defined a new model, we always \"repeated\" a set of instructions, like model definition (i.e., Sequential, add Dense layers, compile). \\\n",
        "\n",
        "It's time to speed-up this process. \n",
        "Create a function that, given the number of layers, creates a MLP (i.e. the \"compiled\" model). \n",
        "Here, we set the number of neurons to 2 for all hidden layers, and activation function as relu. The output layer's number of neurons depend on the number of classes we use, while the activation function is a softmax. "
      ]
    },
    {
      "cell_type": "code",
      "metadata": {
        "id": "CdqAJ2GclDU7"
      },
      "source": [
        "#def MLP_definer(n_layers, input_size, n_classes):  "
      ],
      "execution_count": 28,
      "outputs": []
    },
    {
      "cell_type": "code",
      "metadata": {
        "id": "3vPWHhTdlGYn"
      },
      "source": [
        "#------SOLUTIONS\n",
        "\n",
        "def MLP_definer(n_layers, input_size, n_classes):\n",
        "    #seed\n",
        "    np.random.seed(123)\n",
        "    set_random_seed(2)\n",
        "    \n",
        "    #define a sequential model\n",
        "    model = Sequential()\n",
        "\n",
        "    #define the first layer \n",
        "    for i in range(n_layers):\n",
        "        if i == 1: #input layer\n",
        "            model.add(Dense(units = 2, input_dim = input_size, activation='relu'))\n",
        "        else:\n",
        "            model.add(Dense(units = 2, activation = 'relu'))\n",
        "\n",
        "    model.add(Dense(units = n_classes, activation= 'softmax'))\n",
        "\n",
        "\n",
        "    # Configure the model and start training\n",
        "    model.compile(loss='categorical_crossentropy', #loss metric\n",
        "              optimizer='sgd',  #optimizer\n",
        "              metrics=['accuracy']) #displayed metric\n",
        "\n",
        "    return model"
      ],
      "execution_count": 29,
      "outputs": []
    },
    {
      "cell_type": "code",
      "metadata": {
        "id": "A-bYn9i6QU-9"
      },
      "source": [
        "#------SOLUTIONS\n",
        "\n",
        "def MLP_definer2(n_layers, input_size, n_classes):\n",
        "    #seed\n",
        "    np.random.seed(123)\n",
        "    set_random_seed(2)\n",
        "    \n",
        "    #define a sequential model\n",
        "    model = Sequential()\n",
        "\n",
        "    if n_layers == 0:\n",
        "        model.add(Dense(input_dim= input_size, units = n_classes, activation= 'softmax'))\n",
        "    else:\n",
        "        #define the first layer \n",
        "        for i in range(n_layers):\n",
        "            if i == 0: #input layer\n",
        "                model.add(Dense(units = 2, input_dim = input_size, activation='relu'))\n",
        "            else:\n",
        "                model.add(Dense(units = 2, activation = 'relu'))\n",
        "\n",
        "    model.add(Dense(units = n_classes, activation= 'softmax'))\n",
        "\n",
        "    # Configure the model and start training\n",
        "    model.compile(loss='categorical_crossentropy', #loss metric\n",
        "              optimizer='sgd',  #optimizer\n",
        "              metrics=['accuracy']) #displayed metric\n",
        "\n",
        "    return model"
      ],
      "execution_count": 30,
      "outputs": []
    },
    {
      "cell_type": "markdown",
      "metadata": {
        "id": "UDhZj1BOlOOF"
      },
      "source": [
        "# Ex 1.8 \n",
        "\n",
        "Let's now consider the number of layers (not counting the input and output ones) of the network as a hyperparameter. \n",
        "\n",
        "Using the function you just defined in the previous exercise, implement a grid-search among different number of layers (from 0 to 4). \\\n",
        "Remember to use the earlystopping mechanism. \\\n",
        "Print both training and validation accuracies."
      ]
    },
    {
      "cell_type": "code",
      "metadata": {
        "colab": {
          "base_uri": "https://localhost:8080/"
        },
        "id": "9szlPVZfJyUf",
        "outputId": "2bef77c9-679c-4787-d2c4-63a24ef7752a"
      },
      "source": [
        "#-------SOLUTIONS\n",
        "\n",
        "nlayers = [0, 1, 2, 3, 4]\n",
        "\n",
        "for nl in nlayers:\n",
        "    #create the MLP\n",
        "    m = MLP_definer2(n_layers= nl, input_size=2, n_classes= 2)\n",
        "    print(m.summary())\n",
        "\n",
        "#train our model\n",
        "h = m.fit(X_train_scl, y_train_cat, epochs=500, \n",
        "                  batch_size=16, verbose=0, validation_split=0.25, \n",
        "                  callbacks=[es])\n",
        "    \n",
        "print(f\"N layers:{nl}\\t\\tTrain ACC:{h.history['accuracy'][-1]:.8f}\\tVal ACC:{h.history['val_accuracy'][-1]:.8f}\")\n",
        "    \n",
        "print(\"\\n\\n\\n\\n\")"
      ],
      "execution_count": 33,
      "outputs": [
        {
          "output_type": "stream",
          "name": "stdout",
          "text": [
            "Model: \"sequential_12\"\n",
            "_________________________________________________________________\n",
            " Layer (type)                Output Shape              Param #   \n",
            "=================================================================\n",
            " dense_30 (Dense)            (None, 2)                 6         \n",
            "                                                                 \n",
            " dense_31 (Dense)            (None, 2)                 6         \n",
            "                                                                 \n",
            "=================================================================\n",
            "Total params: 12\n",
            "Trainable params: 12\n",
            "Non-trainable params: 0\n",
            "_________________________________________________________________\n",
            "None\n",
            "Model: \"sequential_13\"\n",
            "_________________________________________________________________\n",
            " Layer (type)                Output Shape              Param #   \n",
            "=================================================================\n",
            " dense_32 (Dense)            (None, 2)                 6         \n",
            "                                                                 \n",
            " dense_33 (Dense)            (None, 2)                 6         \n",
            "                                                                 \n",
            "=================================================================\n",
            "Total params: 12\n",
            "Trainable params: 12\n",
            "Non-trainable params: 0\n",
            "_________________________________________________________________\n",
            "None\n",
            "Model: \"sequential_14\"\n",
            "_________________________________________________________________\n",
            " Layer (type)                Output Shape              Param #   \n",
            "=================================================================\n",
            " dense_34 (Dense)            (None, 2)                 6         \n",
            "                                                                 \n",
            " dense_35 (Dense)            (None, 2)                 6         \n",
            "                                                                 \n",
            " dense_36 (Dense)            (None, 2)                 6         \n",
            "                                                                 \n",
            "=================================================================\n",
            "Total params: 18\n",
            "Trainable params: 18\n",
            "Non-trainable params: 0\n",
            "_________________________________________________________________\n",
            "None\n",
            "Model: \"sequential_15\"\n",
            "_________________________________________________________________\n",
            " Layer (type)                Output Shape              Param #   \n",
            "=================================================================\n",
            " dense_37 (Dense)            (None, 2)                 6         \n",
            "                                                                 \n",
            " dense_38 (Dense)            (None, 2)                 6         \n",
            "                                                                 \n",
            " dense_39 (Dense)            (None, 2)                 6         \n",
            "                                                                 \n",
            " dense_40 (Dense)            (None, 2)                 6         \n",
            "                                                                 \n",
            "=================================================================\n",
            "Total params: 24\n",
            "Trainable params: 24\n",
            "Non-trainable params: 0\n",
            "_________________________________________________________________\n",
            "None\n",
            "Model: \"sequential_16\"\n",
            "_________________________________________________________________\n",
            " Layer (type)                Output Shape              Param #   \n",
            "=================================================================\n",
            " dense_41 (Dense)            (None, 2)                 6         \n",
            "                                                                 \n",
            " dense_42 (Dense)            (None, 2)                 6         \n",
            "                                                                 \n",
            " dense_43 (Dense)            (None, 2)                 6         \n",
            "                                                                 \n",
            " dense_44 (Dense)            (None, 2)                 6         \n",
            "                                                                 \n",
            " dense_45 (Dense)            (None, 2)                 6         \n",
            "                                                                 \n",
            "=================================================================\n",
            "Total params: 30\n",
            "Trainable params: 30\n",
            "Non-trainable params: 0\n",
            "_________________________________________________________________\n",
            "None\n",
            "Epoch 9: early stopping\n",
            "N layers:4\t\tTrain ACC:0.50888890\tVal ACC:0.52333331\n",
            "\n",
            "\n",
            "\n",
            "\n",
            "\n"
          ]
        }
      ]
    }
  ]
}